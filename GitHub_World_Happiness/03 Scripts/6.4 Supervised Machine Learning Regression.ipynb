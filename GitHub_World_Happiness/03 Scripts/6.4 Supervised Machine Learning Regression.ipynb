{
 "cells": [
  {
   "cell_type": "markdown",
   "id": "38ef39d8",
   "metadata": {},
   "source": [
    "# World Happines Analysis"
   ]
  },
  {
   "cell_type": "markdown",
   "id": "093b7ff6",
   "metadata": {},
   "source": [
    "## Content\n",
    "### 01. Importing libraries and data\n",
    "### 02. Data cleaning\n",
    "### 03. Checking extreme values\n",
    "### 04. Data prep for regression analysis\n",
    "### 05. Regression analysis \n",
    "### 06. Performance improvement after removing outliers"
   ]
  },
  {
   "cell_type": "markdown",
   "id": "61307e46",
   "metadata": {},
   "source": [
    "## 01. Importing libraries and data"
   ]
  },
  {
   "cell_type": "code",
   "execution_count": 4,
   "id": "03ff9c6d",
   "metadata": {},
   "outputs": [],
   "source": [
    "import pandas as pd\n",
    "import numpy as np\n",
    "import seaborn as sns\n",
    "import matplotlib\n",
    "import matplotlib.pyplot as plt\n",
    "import os\n",
    "import sklearn\n",
    "from sklearn.model_selection import train_test_split \n",
    "from sklearn.linear_model import LinearRegression\n",
    "from sklearn.metrics import mean_squared_error, r2_score"
   ]
  },
  {
   "cell_type": "code",
   "execution_count": 5,
   "id": "217df768",
   "metadata": {},
   "outputs": [],
   "source": [
    "# This option ensures that the graphs you create are displayed within the notebook without the need to \"call\" them specifically.\n",
    "%matplotlib inline"
   ]
  },
  {
   "cell_type": "code",
   "execution_count": 6,
   "id": "cd0aa7a5",
   "metadata": {},
   "outputs": [],
   "source": [
    "# Create Path\n",
    "path=\"C:/Users/Oksana Stepanova/OneDrive/Документи/World Happiness/02 Data/Prepared Data/\""
   ]
  },
  {
   "cell_type": "code",
   "execution_count": 7,
   "id": "5d1f99d5",
   "metadata": {},
   "outputs": [],
   "source": [
    "# Import data\n",
    "wh_merged=pd.read_csv(os.path.join(path, 'wh_merged.csv'))"
   ]
  },
  {
   "cell_type": "code",
   "execution_count": 8,
   "id": "4f7430d8",
   "metadata": {},
   "outputs": [
    {
     "data": {
      "text/html": [
       "<div>\n",
       "<style scoped>\n",
       "    .dataframe tbody tr th:only-of-type {\n",
       "        vertical-align: middle;\n",
       "    }\n",
       "\n",
       "    .dataframe tbody tr th {\n",
       "        vertical-align: top;\n",
       "    }\n",
       "\n",
       "    .dataframe thead th {\n",
       "        text-align: right;\n",
       "    }\n",
       "</style>\n",
       "<table border=\"1\" class=\"dataframe\">\n",
       "  <thead>\n",
       "    <tr style=\"text-align: right;\">\n",
       "      <th></th>\n",
       "      <th>Unnamed: 0</th>\n",
       "      <th>country</th>\n",
       "      <th>year</th>\n",
       "      <th>happiness_rank</th>\n",
       "      <th>happiness_score</th>\n",
       "      <th>economy_GDP_per_capita</th>\n",
       "      <th>family</th>\n",
       "      <th>health_life_expectancy</th>\n",
       "      <th>freedom</th>\n",
       "      <th>trust_government_corruption</th>\n",
       "      <th>generosity</th>\n",
       "      <th>dystopia_residual</th>\n",
       "      <th>File_Name</th>\n",
       "    </tr>\n",
       "  </thead>\n",
       "  <tbody>\n",
       "    <tr>\n",
       "      <th>0</th>\n",
       "      <td>0</td>\n",
       "      <td>Switzerland</td>\n",
       "      <td>2015</td>\n",
       "      <td>1</td>\n",
       "      <td>7.587</td>\n",
       "      <td>1.39651</td>\n",
       "      <td>1.34951</td>\n",
       "      <td>0.94143</td>\n",
       "      <td>0.66557</td>\n",
       "      <td>0.41978</td>\n",
       "      <td>0.29678</td>\n",
       "      <td>2.51738</td>\n",
       "      <td>wh_2015_wrangled.csv</td>\n",
       "    </tr>\n",
       "    <tr>\n",
       "      <th>1</th>\n",
       "      <td>1</td>\n",
       "      <td>Iceland</td>\n",
       "      <td>2015</td>\n",
       "      <td>2</td>\n",
       "      <td>7.561</td>\n",
       "      <td>1.30232</td>\n",
       "      <td>1.40223</td>\n",
       "      <td>0.94784</td>\n",
       "      <td>0.62877</td>\n",
       "      <td>0.14145</td>\n",
       "      <td>0.43630</td>\n",
       "      <td>2.70201</td>\n",
       "      <td>wh_2015_wrangled.csv</td>\n",
       "    </tr>\n",
       "    <tr>\n",
       "      <th>2</th>\n",
       "      <td>2</td>\n",
       "      <td>Denmark</td>\n",
       "      <td>2015</td>\n",
       "      <td>3</td>\n",
       "      <td>7.527</td>\n",
       "      <td>1.32548</td>\n",
       "      <td>1.36058</td>\n",
       "      <td>0.87464</td>\n",
       "      <td>0.64938</td>\n",
       "      <td>0.48357</td>\n",
       "      <td>0.34139</td>\n",
       "      <td>2.49204</td>\n",
       "      <td>wh_2015_wrangled.csv</td>\n",
       "    </tr>\n",
       "    <tr>\n",
       "      <th>3</th>\n",
       "      <td>3</td>\n",
       "      <td>Norway</td>\n",
       "      <td>2015</td>\n",
       "      <td>4</td>\n",
       "      <td>7.522</td>\n",
       "      <td>1.45900</td>\n",
       "      <td>1.33095</td>\n",
       "      <td>0.88521</td>\n",
       "      <td>0.66973</td>\n",
       "      <td>0.36503</td>\n",
       "      <td>0.34699</td>\n",
       "      <td>2.46531</td>\n",
       "      <td>wh_2015_wrangled.csv</td>\n",
       "    </tr>\n",
       "    <tr>\n",
       "      <th>4</th>\n",
       "      <td>4</td>\n",
       "      <td>Canada</td>\n",
       "      <td>2015</td>\n",
       "      <td>5</td>\n",
       "      <td>7.427</td>\n",
       "      <td>1.32629</td>\n",
       "      <td>1.32261</td>\n",
       "      <td>0.90563</td>\n",
       "      <td>0.63297</td>\n",
       "      <td>0.32957</td>\n",
       "      <td>0.45811</td>\n",
       "      <td>2.45176</td>\n",
       "      <td>wh_2015_wrangled.csv</td>\n",
       "    </tr>\n",
       "  </tbody>\n",
       "</table>\n",
       "</div>"
      ],
      "text/plain": [
       "   Unnamed: 0      country  year  happiness_rank  happiness_score  \\\n",
       "0           0  Switzerland  2015               1            7.587   \n",
       "1           1      Iceland  2015               2            7.561   \n",
       "2           2      Denmark  2015               3            7.527   \n",
       "3           3       Norway  2015               4            7.522   \n",
       "4           4       Canada  2015               5            7.427   \n",
       "\n",
       "   economy_GDP_per_capita   family  health_life_expectancy  freedom  \\\n",
       "0                 1.39651  1.34951                 0.94143  0.66557   \n",
       "1                 1.30232  1.40223                 0.94784  0.62877   \n",
       "2                 1.32548  1.36058                 0.87464  0.64938   \n",
       "3                 1.45900  1.33095                 0.88521  0.66973   \n",
       "4                 1.32629  1.32261                 0.90563  0.63297   \n",
       "\n",
       "   trust_government_corruption  generosity  dystopia_residual  \\\n",
       "0                      0.41978     0.29678            2.51738   \n",
       "1                      0.14145     0.43630            2.70201   \n",
       "2                      0.48357     0.34139            2.49204   \n",
       "3                      0.36503     0.34699            2.46531   \n",
       "4                      0.32957     0.45811            2.45176   \n",
       "\n",
       "              File_Name  \n",
       "0  wh_2015_wrangled.csv  \n",
       "1  wh_2015_wrangled.csv  \n",
       "2  wh_2015_wrangled.csv  \n",
       "3  wh_2015_wrangled.csv  \n",
       "4  wh_2015_wrangled.csv  "
      ]
     },
     "execution_count": 8,
     "metadata": {},
     "output_type": "execute_result"
    }
   ],
   "source": [
    "wh_merged.head()"
   ]
  },
  {
   "cell_type": "markdown",
   "id": "b1c18e02",
   "metadata": {},
   "source": [
    "## 02. Data cleaning"
   ]
  },
  {
   "cell_type": "code",
   "execution_count": 10,
   "id": "66507b3f",
   "metadata": {},
   "outputs": [
    {
     "data": {
      "text/html": [
       "<div>\n",
       "<style scoped>\n",
       "    .dataframe tbody tr th:only-of-type {\n",
       "        vertical-align: middle;\n",
       "    }\n",
       "\n",
       "    .dataframe tbody tr th {\n",
       "        vertical-align: top;\n",
       "    }\n",
       "\n",
       "    .dataframe thead th {\n",
       "        text-align: right;\n",
       "    }\n",
       "</style>\n",
       "<table border=\"1\" class=\"dataframe\">\n",
       "  <thead>\n",
       "    <tr style=\"text-align: right;\">\n",
       "      <th></th>\n",
       "      <th>country</th>\n",
       "      <th>year</th>\n",
       "      <th>happiness_rank</th>\n",
       "      <th>happiness_score</th>\n",
       "      <th>economy_GDP_per_capita</th>\n",
       "      <th>family</th>\n",
       "      <th>health_life_expectancy</th>\n",
       "      <th>freedom</th>\n",
       "      <th>trust_government_corruption</th>\n",
       "      <th>generosity</th>\n",
       "      <th>dystopia_residual</th>\n",
       "    </tr>\n",
       "  </thead>\n",
       "  <tbody>\n",
       "    <tr>\n",
       "      <th>0</th>\n",
       "      <td>Switzerland</td>\n",
       "      <td>2015</td>\n",
       "      <td>1</td>\n",
       "      <td>7.587</td>\n",
       "      <td>1.39651</td>\n",
       "      <td>1.34951</td>\n",
       "      <td>0.94143</td>\n",
       "      <td>0.66557</td>\n",
       "      <td>0.41978</td>\n",
       "      <td>0.29678</td>\n",
       "      <td>2.51738</td>\n",
       "    </tr>\n",
       "    <tr>\n",
       "      <th>1</th>\n",
       "      <td>Iceland</td>\n",
       "      <td>2015</td>\n",
       "      <td>2</td>\n",
       "      <td>7.561</td>\n",
       "      <td>1.30232</td>\n",
       "      <td>1.40223</td>\n",
       "      <td>0.94784</td>\n",
       "      <td>0.62877</td>\n",
       "      <td>0.14145</td>\n",
       "      <td>0.43630</td>\n",
       "      <td>2.70201</td>\n",
       "    </tr>\n",
       "    <tr>\n",
       "      <th>2</th>\n",
       "      <td>Denmark</td>\n",
       "      <td>2015</td>\n",
       "      <td>3</td>\n",
       "      <td>7.527</td>\n",
       "      <td>1.32548</td>\n",
       "      <td>1.36058</td>\n",
       "      <td>0.87464</td>\n",
       "      <td>0.64938</td>\n",
       "      <td>0.48357</td>\n",
       "      <td>0.34139</td>\n",
       "      <td>2.49204</td>\n",
       "    </tr>\n",
       "    <tr>\n",
       "      <th>3</th>\n",
       "      <td>Norway</td>\n",
       "      <td>2015</td>\n",
       "      <td>4</td>\n",
       "      <td>7.522</td>\n",
       "      <td>1.45900</td>\n",
       "      <td>1.33095</td>\n",
       "      <td>0.88521</td>\n",
       "      <td>0.66973</td>\n",
       "      <td>0.36503</td>\n",
       "      <td>0.34699</td>\n",
       "      <td>2.46531</td>\n",
       "    </tr>\n",
       "    <tr>\n",
       "      <th>4</th>\n",
       "      <td>Canada</td>\n",
       "      <td>2015</td>\n",
       "      <td>5</td>\n",
       "      <td>7.427</td>\n",
       "      <td>1.32629</td>\n",
       "      <td>1.32261</td>\n",
       "      <td>0.90563</td>\n",
       "      <td>0.63297</td>\n",
       "      <td>0.32957</td>\n",
       "      <td>0.45811</td>\n",
       "      <td>2.45176</td>\n",
       "    </tr>\n",
       "    <tr>\n",
       "      <th>...</th>\n",
       "      <td>...</td>\n",
       "      <td>...</td>\n",
       "      <td>...</td>\n",
       "      <td>...</td>\n",
       "      <td>...</td>\n",
       "      <td>...</td>\n",
       "      <td>...</td>\n",
       "      <td>...</td>\n",
       "      <td>...</td>\n",
       "      <td>...</td>\n",
       "      <td>...</td>\n",
       "    </tr>\n",
       "    <tr>\n",
       "      <th>1362</th>\n",
       "      <td>Congo (Kinshasa)</td>\n",
       "      <td>2023</td>\n",
       "      <td>133</td>\n",
       "      <td>3.207</td>\n",
       "      <td>0.53100</td>\n",
       "      <td>0.78400</td>\n",
       "      <td>0.10500</td>\n",
       "      <td>0.37500</td>\n",
       "      <td>0.06800</td>\n",
       "      <td>0.18300</td>\n",
       "      <td>0.00000</td>\n",
       "    </tr>\n",
       "    <tr>\n",
       "      <th>1363</th>\n",
       "      <td>Zimbabwe</td>\n",
       "      <td>2023</td>\n",
       "      <td>134</td>\n",
       "      <td>3.204</td>\n",
       "      <td>0.75800</td>\n",
       "      <td>0.88100</td>\n",
       "      <td>0.06900</td>\n",
       "      <td>0.36300</td>\n",
       "      <td>0.11700</td>\n",
       "      <td>0.11200</td>\n",
       "      <td>0.00000</td>\n",
       "    </tr>\n",
       "    <tr>\n",
       "      <th>1364</th>\n",
       "      <td>Sierra Leone</td>\n",
       "      <td>2023</td>\n",
       "      <td>135</td>\n",
       "      <td>3.138</td>\n",
       "      <td>0.67000</td>\n",
       "      <td>0.54000</td>\n",
       "      <td>0.09200</td>\n",
       "      <td>0.37100</td>\n",
       "      <td>0.05100</td>\n",
       "      <td>0.19300</td>\n",
       "      <td>0.00000</td>\n",
       "    </tr>\n",
       "    <tr>\n",
       "      <th>1365</th>\n",
       "      <td>Lebanon</td>\n",
       "      <td>2023</td>\n",
       "      <td>136</td>\n",
       "      <td>2.392</td>\n",
       "      <td>1.41700</td>\n",
       "      <td>0.47600</td>\n",
       "      <td>0.39800</td>\n",
       "      <td>0.12300</td>\n",
       "      <td>0.02700</td>\n",
       "      <td>0.06100</td>\n",
       "      <td>0.00000</td>\n",
       "    </tr>\n",
       "    <tr>\n",
       "      <th>1366</th>\n",
       "      <td>Afghanistan</td>\n",
       "      <td>2023</td>\n",
       "      <td>137</td>\n",
       "      <td>1.859</td>\n",
       "      <td>0.64500</td>\n",
       "      <td>0.00000</td>\n",
       "      <td>0.08700</td>\n",
       "      <td>0.00000</td>\n",
       "      <td>0.05900</td>\n",
       "      <td>0.09300</td>\n",
       "      <td>0.00000</td>\n",
       "    </tr>\n",
       "  </tbody>\n",
       "</table>\n",
       "<p>1367 rows × 11 columns</p>\n",
       "</div>"
      ],
      "text/plain": [
       "               country  year  happiness_rank  happiness_score  \\\n",
       "0          Switzerland  2015               1            7.587   \n",
       "1              Iceland  2015               2            7.561   \n",
       "2              Denmark  2015               3            7.527   \n",
       "3               Norway  2015               4            7.522   \n",
       "4               Canada  2015               5            7.427   \n",
       "...                ...   ...             ...              ...   \n",
       "1362  Congo (Kinshasa)  2023             133            3.207   \n",
       "1363          Zimbabwe  2023             134            3.204   \n",
       "1364      Sierra Leone  2023             135            3.138   \n",
       "1365           Lebanon  2023             136            2.392   \n",
       "1366       Afghanistan  2023             137            1.859   \n",
       "\n",
       "      economy_GDP_per_capita   family  health_life_expectancy  freedom  \\\n",
       "0                    1.39651  1.34951                 0.94143  0.66557   \n",
       "1                    1.30232  1.40223                 0.94784  0.62877   \n",
       "2                    1.32548  1.36058                 0.87464  0.64938   \n",
       "3                    1.45900  1.33095                 0.88521  0.66973   \n",
       "4                    1.32629  1.32261                 0.90563  0.63297   \n",
       "...                      ...      ...                     ...      ...   \n",
       "1362                 0.53100  0.78400                 0.10500  0.37500   \n",
       "1363                 0.75800  0.88100                 0.06900  0.36300   \n",
       "1364                 0.67000  0.54000                 0.09200  0.37100   \n",
       "1365                 1.41700  0.47600                 0.39800  0.12300   \n",
       "1366                 0.64500  0.00000                 0.08700  0.00000   \n",
       "\n",
       "      trust_government_corruption  generosity  dystopia_residual  \n",
       "0                         0.41978     0.29678            2.51738  \n",
       "1                         0.14145     0.43630            2.70201  \n",
       "2                         0.48357     0.34139            2.49204  \n",
       "3                         0.36503     0.34699            2.46531  \n",
       "4                         0.32957     0.45811            2.45176  \n",
       "...                           ...         ...                ...  \n",
       "1362                      0.06800     0.18300            0.00000  \n",
       "1363                      0.11700     0.11200            0.00000  \n",
       "1364                      0.05100     0.19300            0.00000  \n",
       "1365                      0.02700     0.06100            0.00000  \n",
       "1366                      0.05900     0.09300            0.00000  \n",
       "\n",
       "[1367 rows x 11 columns]"
      ]
     },
     "execution_count": 10,
     "metadata": {},
     "output_type": "execute_result"
    }
   ],
   "source": [
    "# Drop irrelevant columns\n",
    "wh_merged.drop(columns=['Unnamed: 0', 'File_Name'])"
   ]
  },
  {
   "cell_type": "code",
   "execution_count": 12,
   "id": "072949f2",
   "metadata": {},
   "outputs": [],
   "source": [
    "wh_merged=wh_merged.drop(columns=['Unnamed: 0', 'File_Name'])"
   ]
  },
  {
   "cell_type": "code",
   "execution_count": 13,
   "id": "4eadd835",
   "metadata": {},
   "outputs": [
    {
     "data": {
      "text/plain": [
       "(1367, 11)"
      ]
     },
     "execution_count": 13,
     "metadata": {},
     "output_type": "execute_result"
    }
   ],
   "source": [
    "wh_merged.shape"
   ]
  },
  {
   "cell_type": "code",
   "execution_count": 14,
   "id": "4588656c",
   "metadata": {},
   "outputs": [
    {
     "name": "stdout",
     "output_type": "stream",
     "text": [
      "<class 'pandas.core.frame.DataFrame'>\n",
      "RangeIndex: 1367 entries, 0 to 1366\n",
      "Data columns (total 11 columns):\n",
      " #   Column                       Non-Null Count  Dtype  \n",
      "---  ------                       --------------  -----  \n",
      " 0   country                      1367 non-null   object \n",
      " 1   year                         1367 non-null   int64  \n",
      " 2   happiness_rank               1367 non-null   int64  \n",
      " 3   happiness_score              1367 non-null   float64\n",
      " 4   economy_GDP_per_capita       1367 non-null   float64\n",
      " 5   family                       1367 non-null   float64\n",
      " 6   health_life_expectancy       1367 non-null   float64\n",
      " 7   freedom                      1367 non-null   float64\n",
      " 8   trust_government_corruption  1367 non-null   float64\n",
      " 9   generosity                   1367 non-null   float64\n",
      " 10  dystopia_residual            1367 non-null   float64\n",
      "dtypes: float64(8), int64(2), object(1)\n",
      "memory usage: 117.6+ KB\n"
     ]
    }
   ],
   "source": [
    "wh_merged.info()"
   ]
  },
  {
   "cell_type": "markdown",
   "id": "5dd274e7",
   "metadata": {},
   "source": [
    "## 03. Checking extreme values"
   ]
  },
  {
   "cell_type": "code",
   "execution_count": 17,
   "id": "af30638f",
   "metadata": {},
   "outputs": [
    {
     "name": "stderr",
     "output_type": "stream",
     "text": [
      "C:\\Users\\Oksana Stepanova\\AppData\\Local\\Temp\\ipykernel_21536\\3630375891.py:2: UserWarning: \n",
      "\n",
      "`distplot` is a deprecated function and will be removed in seaborn v0.14.0.\n",
      "\n",
      "Please adapt your code to use either `displot` (a figure-level function with\n",
      "similar flexibility) or `histplot` (an axes-level function for histograms).\n",
      "\n",
      "For a guide to updating your code to use the new functions, please see\n",
      "https://gist.github.com/mwaskom/de44147ed2974457ad6372750bbe5751\n",
      "\n",
      "  sns.distplot(wh_merged['health_life_expectancy'], bins=25)\n",
      "C:\\Users\\Oksana Stepanova\\anaconda3\\Lib\\site-packages\\seaborn\\_oldcore.py:1119: FutureWarning: use_inf_as_na option is deprecated and will be removed in a future version. Convert inf values to NaN before operating instead.\n",
      "  with pd.option_context('mode.use_inf_as_na', True):\n"
     ]
    },
    {
     "data": {
      "text/plain": [
       "<Axes: xlabel='health_life_expectancy', ylabel='Density'>"
      ]
     },
     "execution_count": 17,
     "metadata": {},
     "output_type": "execute_result"
    },
    {
     "data": {
      "image/png": "[encoded data removed]",
      "text/plain": [
       "<Figure size 640x480 with 1 Axes>"
      ]
     },
     "metadata": {},
     "output_type": "display_data"
    }
   ],
   "source": [
    "# Show extreme values\n",
    "sns.distplot(wh_merged['health_life_expectancy'], bins=25)"
   ]
  },
  {
   "cell_type": "code",
   "execution_count": 19,
   "id": "bf31cf18",
   "metadata": {},
   "outputs": [
    {
     "data": {
      "text/plain": [
       "0.584039930355694"
      ]
     },
     "execution_count": 19,
     "metadata": {},
     "output_type": "execute_result"
    }
   ],
   "source": [
    "# Check for the mean\n",
    "wh_merged['health_life_expectancy'].mean()"
   ]
  },
  {
   "cell_type": "code",
   "execution_count": 20,
   "id": "57787347",
   "metadata": {},
   "outputs": [
    {
     "data": {
      "text/plain": [
       "0.612448037"
      ]
     },
     "execution_count": 20,
     "metadata": {},
     "output_type": "execute_result"
    }
   ],
   "source": [
    "# Check for the median\n",
    "wh_merged['health_life_expectancy'].median()"
   ]
  },
  {
   "cell_type": "code",
   "execution_count": 21,
   "id": "5416f19e",
   "metadata": {},
   "outputs": [
    {
     "data": {
      "text/plain": [
       "1.141"
      ]
     },
     "execution_count": 21,
     "metadata": {},
     "output_type": "execute_result"
    }
   ],
   "source": [
    "# Check for the max value\n",
    "wh_merged['health_life_expectancy'].max()"
   ]
  },
  {
   "cell_type": "code",
   "execution_count": 22,
   "id": "9f4a4f6c",
   "metadata": {},
   "outputs": [
    {
     "data": {
      "text/plain": [
       "0.0"
      ]
     },
     "execution_count": 22,
     "metadata": {},
     "output_type": "execute_result"
    }
   ],
   "source": [
    "# Check for the min value\n",
    "wh_merged['health_life_expectancy'].min()"
   ]
  },
  {
   "cell_type": "markdown",
   "id": "d8d373f5",
   "metadata": {},
   "source": [
    "## Hypothesis"
   ]
  },
  {
   "cell_type": "markdown",
   "id": "83b11328",
   "metadata": {},
   "source": [
    "#### If the life expectancy factor is higher, then the country is more likely to have a higher happiness score."
   ]
  },
  {
   "cell_type": "markdown",
   "id": "b92c0290",
   "metadata": {},
   "source": [
    "## 04. Data prep for regression analysis"
   ]
  },
  {
   "cell_type": "code",
   "execution_count": 27,
   "id": "6c7d024e",
   "metadata": {},
   "outputs": [
    {
     "data": {
      "image/png": "[encoded data removed]",
      "text/plain": [
       "<Figure size 640x480 with 1 Axes>"
      ]
     },
     "metadata": {},
     "output_type": "display_data"
    }
   ],
   "source": [
    "# Create a scatterplot using matplotlib for another look at how the chosen variables plot against each other.\n",
    "\n",
    "wh_merged.plot(x = 'health_life_expectancy', y='happiness_score',style='o') # The style option creates a scatterplot; without it, we only have lines.\n",
    "plt.title('Happiness score vs Life expentancy')  \n",
    "plt.xlabel('health_life_expectancy')  \n",
    "plt.ylabel('happiness_score')  \n",
    "plt.show()"
   ]
  },
  {
   "cell_type": "code",
   "execution_count": 28,
   "id": "6e89f85f",
   "metadata": {},
   "outputs": [],
   "source": [
    "# Reshape the variables into NumPy arrays and put them into separate objects.\n",
    "X = wh_merged['health_life_expectancy'].values.reshape(-1,1)\n",
    "y = wh_merged['happiness_score'].values.reshape(-1,1)"
   ]
  },
  {
   "cell_type": "code",
   "execution_count": 29,
   "id": "7fa771e2",
   "metadata": {},
   "outputs": [
    {
     "data": {
      "text/plain": [
       "array([[0.94143],\n",
       "       [0.94784],\n",
       "       [0.87464],\n",
       "       ...,\n",
       "       [0.092  ],\n",
       "       [0.398  ],\n",
       "       [0.087  ]])"
      ]
     },
     "execution_count": 29,
     "metadata": {},
     "output_type": "execute_result"
    }
   ],
   "source": [
    "X"
   ]
  },
  {
   "cell_type": "code",
   "execution_count": 30,
   "id": "ab280079",
   "metadata": {},
   "outputs": [
    {
     "data": {
      "text/plain": [
       "array([[7.587],\n",
       "       [7.561],\n",
       "       [7.527],\n",
       "       ...,\n",
       "       [3.138],\n",
       "       [2.392],\n",
       "       [1.859]])"
      ]
     },
     "execution_count": 30,
     "metadata": {},
     "output_type": "execute_result"
    }
   ],
   "source": [
    "y"
   ]
  },
  {
   "cell_type": "code",
   "execution_count": 31,
   "id": "9faf3258",
   "metadata": {},
   "outputs": [],
   "source": [
    "# Split data into a training set and a test set.\n",
    "X_train, X_test, y_train, y_test = train_test_split(X, y, test_size=0.3, random_state=0)"
   ]
  },
  {
   "cell_type": "markdown",
   "id": "df2347f6",
   "metadata": {},
   "source": [
    "## 05. Regression analysis"
   ]
  },
  {
   "cell_type": "code",
   "execution_count": 33,
   "id": "18b39b06",
   "metadata": {},
   "outputs": [],
   "source": [
    "# Create a regression object.\n",
    "regression = LinearRegression()  # This is the regression object, which will be fit onto the training set."
   ]
  },
  {
   "cell_type": "code",
   "execution_count": 34,
   "id": "ed13c7ee",
   "metadata": {},
   "outputs": [
    {
     "data": {
      "text/html": [
       "<style>#sk-container-id-1 {color: black;}#sk-container-id-1 pre{padding: 0;}#sk-container-id-1 div.sk-toggleable {background-color: white;}#sk-container-id-1 label.sk-toggleable__label {cursor: pointer;display: block;width: 100%;margin-bottom: 0;padding: 0.3em;box-sizing: border-box;text-align: center;}#sk-container-id-1 label.sk-toggleable__label-arrow:before {content: \"▸\";float: left;margin-right: 0.25em;color: #696969;}#sk-container-id-1 label.sk-toggleable__label-arrow:hover:before {color: black;}#sk-container-id-1 div.sk-estimator:hover label.sk-toggleable__label-arrow:before {color: black;}#sk-container-id-1 div.sk-toggleable__content {max-height: 0;max-width: 0;overflow: hidden;text-align: left;background-color: #f0f8ff;}#sk-container-id-1 div.sk-toggleable__content pre {margin: 0.2em;color: black;border-radius: 0.25em;background-color: #f0f8ff;}#sk-container-id-1 input.sk-toggleable__control:checked~div.sk-toggleable__content {max-height: 200px;max-width: 100%;overflow: auto;}#sk-container-id-1 input.sk-toggleable__control:checked~label.sk-toggleable__label-arrow:before {content: \"▾\";}#sk-container-id-1 div.sk-estimator input.sk-toggleable__control:checked~label.sk-toggleable__label {background-color: #d4ebff;}#sk-container-id-1 div.sk-label input.sk-toggleable__control:checked~label.sk-toggleable__label {background-color: #d4ebff;}#sk-container-id-1 input.sk-hidden--visually {border: 0;clip: rect(1px 1px 1px 1px);clip: rect(1px, 1px, 1px, 1px);height: 1px;margin: -1px;overflow: hidden;padding: 0;position: absolute;width: 1px;}#sk-container-id-1 div.sk-estimator {font-family: monospace;background-color: #f0f8ff;border: 1px dotted black;border-radius: 0.25em;box-sizing: border-box;margin-bottom: 0.5em;}#sk-container-id-1 div.sk-estimator:hover {background-color: #d4ebff;}#sk-container-id-1 div.sk-parallel-item::after {content: \"\";width: 100%;border-bottom: 1px solid gray;flex-grow: 1;}#sk-container-id-1 div.sk-label:hover label.sk-toggleable__label {background-color: #d4ebff;}#sk-container-id-1 div.sk-serial::before {content: \"\";position: absolute;border-left: 1px solid gray;box-sizing: border-box;top: 0;bottom: 0;left: 50%;z-index: 0;}#sk-container-id-1 div.sk-serial {display: flex;flex-direction: column;align-items: center;background-color: white;padding-right: 0.2em;padding-left: 0.2em;position: relative;}#sk-container-id-1 div.sk-item {position: relative;z-index: 1;}#sk-container-id-1 div.sk-parallel {display: flex;align-items: stretch;justify-content: center;background-color: white;position: relative;}#sk-container-id-1 div.sk-item::before, #sk-container-id-1 div.sk-parallel-item::before {content: \"\";position: absolute;border-left: 1px solid gray;box-sizing: border-box;top: 0;bottom: 0;left: 50%;z-index: -1;}#sk-container-id-1 div.sk-parallel-item {display: flex;flex-direction: column;z-index: 1;position: relative;background-color: white;}#sk-container-id-1 div.sk-parallel-item:first-child::after {align-self: flex-end;width: 50%;}#sk-container-id-1 div.sk-parallel-item:last-child::after {align-self: flex-start;width: 50%;}#sk-container-id-1 div.sk-parallel-item:only-child::after {width: 0;}#sk-container-id-1 div.sk-dashed-wrapped {border: 1px dashed gray;margin: 0 0.4em 0.5em 0.4em;box-sizing: border-box;padding-bottom: 0.4em;background-color: white;}#sk-container-id-1 div.sk-label label {font-family: monospace;font-weight: bold;display: inline-block;line-height: 1.2em;}#sk-container-id-1 div.sk-label-container {text-align: center;}#sk-container-id-1 div.sk-container {/* jupyter's `normalize.less` sets `[hidden] { display: none; }` but bootstrap.min.css set `[hidden] { display: none !important; }` so we also need the `!important` here to be able to override the default hidden behavior on the sphinx rendered scikit-learn.org. See: https://github.com/scikit-learn/scikit-learn/issues/21755 */display: inline-block !important;position: relative;}#sk-container-id-1 div.sk-text-repr-fallback {display: none;}</style><div id=\"sk-container-id-1\" class=\"sk-top-container\"><div class=\"sk-text-repr-fallback\"><pre>LinearRegression()</pre><b>In a Jupyter environment, please rerun this cell to show the HTML representation or trust the notebook. <br />On GitHub, the HTML representation is unable to render, please try loading this page with nbviewer.org.</b></div><div class=\"sk-container\" hidden><div class=\"sk-item\"><div class=\"sk-estimator sk-toggleable\"><input class=\"sk-toggleable__control sk-hidden--visually\" id=\"sk-estimator-id-1\" type=\"checkbox\" checked><label for=\"sk-estimator-id-1\" class=\"sk-toggleable__label sk-toggleable__label-arrow\">LinearRegression</label><div class=\"sk-toggleable__content\"><pre>LinearRegression()</pre></div></div></div></div></div>"
      ],
      "text/plain": [
       "LinearRegression()"
      ]
     },
     "execution_count": 34,
     "metadata": {},
     "output_type": "execute_result"
    }
   ],
   "source": [
    "# Fit the regression object onto the training set.\n",
    "regression.fit(X_train, y_train)"
   ]
  },
  {
   "cell_type": "code",
   "execution_count": 35,
   "id": "213b7af2",
   "metadata": {},
   "outputs": [],
   "source": [
    "# Predict the values of y using X.\n",
    "y_predicted = regression.predict(X_test)"
   ]
  },
  {
   "cell_type": "code",
   "execution_count": 36,
   "id": "05660967",
   "metadata": {},
   "outputs": [
    {
     "data": {
      "image/png": "[encoded data removed]",
      "text/plain": [
       "<Figure size 640x480 with 1 Axes>"
      ]
     },
     "metadata": {},
     "output_type": "display_data"
    }
   ],
   "source": [
    "# Create a plot that shows the regression line from the model on the test set.\n",
    "plot_test = plt\n",
    "plot_test.scatter(X_test, y_test, color='gray', s = 15)\n",
    "plot_test.plot(X_test, y_predicted, color='red', linewidth =3)\n",
    "plot_test.title('Happiness score vs Life expentancy (Test set)')\n",
    "plot_test.xlabel('health_life_expectancy')\n",
    "plot_test.ylabel('happiness_score')\n",
    "plot_test.show()"
   ]
  },
  {
   "cell_type": "code",
   "execution_count": 37,
   "id": "1e9c8e57",
   "metadata": {},
   "outputs": [],
   "source": [
    "# Create objects that contain the model summary statistics.\n",
    "rmse = mean_squared_error(y_test, y_predicted) # This is the mean squared error\n",
    "r2 = r2_score(y_test, y_predicted) # This is the R2 score. "
   ]
  },
  {
   "cell_type": "code",
   "execution_count": 38,
   "id": "4ee688d7",
   "metadata": {},
   "outputs": [
    {
     "name": "stdout",
     "output_type": "stream",
     "text": [
      "Slope: [[3.06772431]]\n",
      "Mean squared error:  0.6693413154209316\n",
      "R2 score:  0.4888875849463975\n"
     ]
    }
   ],
   "source": [
    "# Print the model summary statistics. This is where you evaluate the performance of the model.\n",
    "print('Slope:' ,regression.coef_)\n",
    "print('Mean squared error: ', rmse)\n",
    "print('R2 score: ', r2)"
   ]
  },
  {
   "cell_type": "markdown",
   "id": "405bc880",
   "metadata": {},
   "source": [
    "#### Interpretation:\n",
    "#### The slope is positive. This means that the relationship between X and Y variables is positive. This aligns with the hypothesis: if the life expectancy score is higher, there are more probability that the country has a higher happiness score. \n",
    "#### The MSE is at 0.6693. The data points are not very close to the regression line. This means the model may not be accurate for a small dataframe of 1367 observations. \n",
    "#### R2 score of 0.49 represents a moderate fit."
   ]
  },
  {
   "cell_type": "code",
   "execution_count": 40,
   "id": "ff24a35a",
   "metadata": {},
   "outputs": [
    {
     "data": {
      "text/plain": [
       "array([[5.42859222],\n",
       "       [4.00516814],\n",
       "       [5.59118161],\n",
       "       [6.10839993],\n",
       "       [4.94916826],\n",
       "       [4.68451569],\n",
       "       [6.17574299],\n",
       "       [4.90094364],\n",
       "       [4.42121291],\n",
       "       [6.37038358],\n",
       "       [4.43771727],\n",
       "       [6.07588205],\n",
       "       [4.58190031],\n",
       "       [4.54922904],\n",
       "       [4.5383693 ],\n",
       "       [4.95432204],\n",
       "       [5.46430053],\n",
       "       [5.77730044],\n",
       "       [5.64814925],\n",
       "       [6.12496564],\n",
       "       [6.03806049],\n",
       "       [3.61863487],\n",
       "       [5.08193937],\n",
       "       [5.67094244],\n",
       "       [5.63412975],\n",
       "       [4.24138291],\n",
       "       [5.87608008],\n",
       "       [5.49301443],\n",
       "       [5.2231774 ],\n",
       "       [5.96164   ],\n",
       "       [5.77524507],\n",
       "       [4.93709187],\n",
       "       [6.03293391],\n",
       "       [5.21691924],\n",
       "       [4.20150249],\n",
       "       [5.75990644],\n",
       "       [5.61930954],\n",
       "       [5.76604189],\n",
       "       [5.21998697],\n",
       "       [4.54346172],\n",
       "       [6.62326146],\n",
       "       [4.46937965],\n",
       "       [5.53185182],\n",
       "       [6.33801909],\n",
       "       [6.10562709],\n",
       "       [3.94381365],\n",
       "       [6.29789326],\n",
       "       [6.05946972],\n",
       "       [4.61326361],\n",
       "       [4.1769607 ],\n",
       "       [4.91934998],\n",
       "       [5.15556475],\n",
       "       [5.82816331],\n",
       "       [6.01555615],\n",
       "       [5.98385032],\n",
       "       [5.93783445],\n",
       "       [5.9774081 ],\n",
       "       [6.30596137],\n",
       "       [5.07580392],\n",
       "       [5.50835305],\n",
       "       [5.37907915],\n",
       "       [4.76903149],\n",
       "       [4.63429704],\n",
       "       [3.91006868],\n",
       "       [5.68934879],\n",
       "       [6.12422848],\n",
       "       [6.0598992 ],\n",
       "       [6.81520361],\n",
       "       [4.62001619],\n",
       "       [6.34617924],\n",
       "       [6.36731586],\n",
       "       [4.22067577],\n",
       "       [6.65908712],\n",
       "       [4.87333412],\n",
       "       [5.86200031],\n",
       "       [4.98734087],\n",
       "       [4.27196812],\n",
       "       [4.6309839 ],\n",
       "       [5.06660075],\n",
       "       [5.64633929],\n",
       "       [4.618713  ],\n",
       "       [5.48074353],\n",
       "       [5.98691804],\n",
       "       [5.87341224],\n",
       "       [5.25066421],\n",
       "       [5.94859991],\n",
       "       [6.0820175 ],\n",
       "       [5.95010535],\n",
       "       [5.58511483],\n",
       "       [5.89309323],\n",
       "       [4.26371594],\n",
       "       [5.38257635],\n",
       "       [4.57832296],\n",
       "       [5.67401016],\n",
       "       [5.20464834],\n",
       "       [6.11883019],\n",
       "       [4.5052072 ],\n",
       "       [5.56875654],\n",
       "       [5.02396283],\n",
       "       [5.40696476],\n",
       "       [6.39685804],\n",
       "       [5.50770319],\n",
       "       [5.64946837],\n",
       "       [5.5267594 ],\n",
       "       [5.40405042],\n",
       "       [3.77533423],\n",
       "       [4.11253849],\n",
       "       [4.39476913],\n",
       "       [5.73536465],\n",
       "       [4.61257755],\n",
       "       [4.96536585],\n",
       "       [5.52369167],\n",
       "       [4.66472886],\n",
       "       [3.63570601],\n",
       "       [4.78437011],\n",
       "       [6.87655809],\n",
       "       [4.75982832],\n",
       "       [6.64647877],\n",
       "       [6.10119077],\n",
       "       [4.20581886],\n",
       "       [6.07588205],\n",
       "       [6.81070382],\n",
       "       [5.99612122],\n",
       "       [5.79365141],\n",
       "       [6.75538895],\n",
       "       [6.24460689],\n",
       "       [5.33349277],\n",
       "       [6.26617299],\n",
       "       [6.36937123],\n",
       "       [5.14719793],\n",
       "       [5.59326766],\n",
       "       [6.16975755],\n",
       "       [6.04443787],\n",
       "       [5.39177953],\n",
       "       [3.86098509],\n",
       "       [5.83659955],\n",
       "       [6.11883019],\n",
       "       [6.23584653],\n",
       "       [4.6309839 ],\n",
       "       [4.72301563],\n",
       "       [5.14510381],\n",
       "       [6.11883019],\n",
       "       [6.08508522],\n",
       "       [3.77174499],\n",
       "       [5.4844248 ],\n",
       "       [6.05876778],\n",
       "       [6.30596137],\n",
       "       [6.52634669],\n",
       "       [6.02679846],\n",
       "       [4.76708879],\n",
       "       [5.11875206],\n",
       "       [5.21442597],\n",
       "       [5.92556356],\n",
       "       [4.72915108],\n",
       "       [5.87672539],\n",
       "       [6.33050317],\n",
       "       [6.09735612],\n",
       "       [6.0819995 ],\n",
       "       [5.32122187],\n",
       "       [5.56663981],\n",
       "       [3.83030785],\n",
       "       [5.82499381],\n",
       "       [5.4430412 ],\n",
       "       [4.24430941],\n",
       "       [4.18002842],\n",
       "       [5.35189911],\n",
       "       [3.97038014],\n",
       "       [4.79357329],\n",
       "       [4.30887284],\n",
       "       [6.26236901],\n",
       "       [6.10962702],\n",
       "       [5.29054462],\n",
       "       [6.0820175 ],\n",
       "       [6.19195781],\n",
       "       [5.31508642],\n",
       "       [4.76971654],\n",
       "       [5.73843237],\n",
       "       [5.87366096],\n",
       "       [4.73684887],\n",
       "       [4.88974644],\n",
       "       [6.79679726],\n",
       "       [6.01452756],\n",
       "       [4.09413214],\n",
       "       [6.47640413],\n",
       "       [5.36110228],\n",
       "       [6.82440678],\n",
       "       [5.48074353],\n",
       "       [6.64485429],\n",
       "       [3.94688138],\n",
       "       [5.83353183],\n",
       "       [5.19746987],\n",
       "       [5.75683872],\n",
       "       [5.40711815],\n",
       "       [4.08492897],\n",
       "       [4.33034691],\n",
       "       [5.50528533],\n",
       "       [6.27911429],\n",
       "       [5.7623267 ],\n",
       "       [4.92241771],\n",
       "       [6.03615502],\n",
       "       [5.82739638],\n",
       "       [4.03891311],\n",
       "       [5.87479272],\n",
       "       [4.70767701],\n",
       "       [4.9715013 ],\n",
       "       [5.50476381],\n",
       "       [5.86335011],\n",
       "       [4.6064421 ],\n",
       "       [4.657397  ],\n",
       "       [5.186242  ],\n",
       "       [5.14636158],\n",
       "       [5.87647997],\n",
       "       [4.13401256],\n",
       "       [4.71251968],\n",
       "       [6.40719627],\n",
       "       [5.14022613],\n",
       "       [5.27213828],\n",
       "       [5.83301031],\n",
       "       [4.19843477],\n",
       "       [4.30568241],\n",
       "       [3.61863487],\n",
       "       [5.89838352],\n",
       "       [6.40526361],\n",
       "       [5.19237745],\n",
       "       [5.27213828],\n",
       "       [4.64939024],\n",
       "       [5.65083554],\n",
       "       [5.49980039],\n",
       "       [6.0646235 ],\n",
       "       [5.60038478],\n",
       "       [5.44699856],\n",
       "       [6.29982592],\n",
       "       [5.25986738],\n",
       "       [5.38534943],\n",
       "       [4.82205488],\n",
       "       [6.13110109],\n",
       "       [5.53636393],\n",
       "       [4.92548543],\n",
       "       [5.32122187],\n",
       "       [6.4225349 ],\n",
       "       [5.15611839],\n",
       "       [4.44078499],\n",
       "       [3.95608455],\n",
       "       [6.10090753],\n",
       "       [6.03363948],\n",
       "       [6.33050317],\n",
       "       [5.78211677],\n",
       "       [5.1543899 ],\n",
       "       [4.50814434],\n",
       "       [6.54831159],\n",
       "       [6.12803336],\n",
       "       [6.06959546],\n",
       "       [6.04917708],\n",
       "       [4.52556992],\n",
       "       [4.20763794],\n",
       "       [5.55776092],\n",
       "       [4.95002723],\n",
       "       [4.19625669],\n",
       "       [5.29775173],\n",
       "       [5.01576125],\n",
       "       [5.23839331],\n",
       "       [5.52982712],\n",
       "       [4.8211828 ],\n",
       "       [5.95930852],\n",
       "       [5.78444824],\n",
       "       [5.91942811],\n",
       "       [5.84580273],\n",
       "       [5.95010535],\n",
       "       [5.31649081],\n",
       "       [6.410264  ],\n",
       "       [6.05327292],\n",
       "       [4.9346886 ],\n",
       "       [6.32129999],\n",
       "       [6.02986618],\n",
       "       [3.92827505],\n",
       "       [5.88568314],\n",
       "       [5.33349277],\n",
       "       [6.29062275],\n",
       "       [5.94954745],\n",
       "       [6.61181373],\n",
       "       [6.08918351],\n",
       "       [5.57496643],\n",
       "       [4.8579955 ],\n",
       "       [5.06026051],\n",
       "       [6.44094124],\n",
       "       [4.0757258 ],\n",
       "       [6.31504184],\n",
       "       [5.87528356],\n",
       "       [4.87333412],\n",
       "       [4.79664101],\n",
       "       [4.48066541],\n",
       "       [6.54665502],\n",
       "       [6.236831  ],\n",
       "       [6.35197724],\n",
       "       [5.26600283],\n",
       "       [6.19859102],\n",
       "       [4.27999276],\n",
       "       [4.24445063],\n",
       "       [3.64010894],\n",
       "       [6.410264  ],\n",
       "       [6.06258807],\n",
       "       [6.03913071],\n",
       "       [5.6402652 ],\n",
       "       [5.10954889],\n",
       "       [4.0634549 ],\n",
       "       [4.10275245],\n",
       "       [5.47460808],\n",
       "       [5.72616148],\n",
       "       [4.84204333],\n",
       "       [4.09395579],\n",
       "       [5.18550574],\n",
       "       [4.37976795],\n",
       "       [4.9996991 ],\n",
       "       [5.58305214],\n",
       "       [5.25986738],\n",
       "       [5.6402652 ],\n",
       "       [4.22225183],\n",
       "       [6.18018468],\n",
       "       [4.56959367],\n",
       "       [5.51461121],\n",
       "       [4.89787591],\n",
       "       [3.76785564],\n",
       "       [5.79518527],\n",
       "       [3.88552689],\n",
       "       [6.42213609],\n",
       "       [4.81197963],\n",
       "       [5.20771607],\n",
       "       [5.5971581 ],\n",
       "       [5.51142078],\n",
       "       [3.97142317],\n",
       "       [5.3887118 ],\n",
       "       [5.39177953],\n",
       "       [5.72741924],\n",
       "       [5.50528533],\n",
       "       [5.15413318],\n",
       "       [5.90715721],\n",
       "       [4.67086431],\n",
       "       [3.94582128],\n",
       "       [4.69540611],\n",
       "       [5.99393279],\n",
       "       [5.55436892],\n",
       "       [4.10333532],\n",
       "       [5.05126213],\n",
       "       [5.54823347],\n",
       "       [5.39791498],\n",
       "       [4.97763674],\n",
       "       [4.56349396],\n",
       "       [6.61173785],\n",
       "       [5.13985584],\n",
       "       [6.28141958],\n",
       "       [4.79970873],\n",
       "       [4.78743784],\n",
       "       [4.67086431],\n",
       "       [4.13094483],\n",
       "       [4.23524746],\n",
       "       [5.27758587],\n",
       "       [4.1646898 ],\n",
       "       [5.1617002 ],\n",
       "       [4.74142197],\n",
       "       [5.54516574],\n",
       "       [5.79076775],\n",
       "       [5.75690007],\n",
       "       [5.05739758],\n",
       "       [4.22297656],\n",
       "       [5.64333292],\n",
       "       [6.80600044],\n",
       "       [6.80600044],\n",
       "       [6.00417315],\n",
       "       [6.27528413],\n",
       "       [6.08247766],\n",
       "       [5.43678304],\n",
       "       [5.94719101],\n",
       "       [5.52062395],\n",
       "       [5.83948321],\n",
       "       [5.60958795],\n",
       "       [4.65740256],\n",
       "       [5.07887165],\n",
       "       [5.32122187],\n",
       "       [4.64219716],\n",
       "       [6.16779107],\n",
       "       [5.3887118 ],\n",
       "       [4.3794305 ],\n",
       "       [5.84337922],\n",
       "       [5.23532559],\n",
       "       [4.43480762],\n",
       "       [5.79702004],\n",
       "       [5.42216329],\n",
       "       [5.72051169],\n",
       "       [4.91934998],\n",
       "       [5.82432866],\n",
       "       [5.60461824],\n",
       "       [6.28153761],\n",
       "       [4.15070098],\n",
       "       [3.84564647],\n",
       "       [4.44750194],\n",
       "       [5.80285458],\n",
       "       [4.849774  ],\n",
       "       [5.57438406],\n",
       "       [4.85511184],\n",
       "       [5.72197778],\n",
       "       [6.15257516],\n",
       "       [4.34178953],\n",
       "       [5.90537348],\n",
       "       [5.44705548],\n",
       "       [6.04213708],\n",
       "       [6.00502505],\n",
       "       [4.00817451],\n",
       "       [5.35803456],\n",
       "       [5.78751596],\n",
       "       [5.60038478],\n",
       "       [3.61863487]])"
      ]
     },
     "execution_count": 40,
     "metadata": {},
     "output_type": "execute_result"
    }
   ],
   "source": [
    "y_predicted"
   ]
  },
  {
   "cell_type": "code",
   "execution_count": 41,
   "id": "2d3345f1",
   "metadata": {},
   "outputs": [
    {
     "data": {
      "text/html": [
       "<div>\n",
       "<style scoped>\n",
       "    .dataframe tbody tr th:only-of-type {\n",
       "        vertical-align: middle;\n",
       "    }\n",
       "\n",
       "    .dataframe tbody tr th {\n",
       "        vertical-align: top;\n",
       "    }\n",
       "\n",
       "    .dataframe thead th {\n",
       "        text-align: right;\n",
       "    }\n",
       "</style>\n",
       "<table border=\"1\" class=\"dataframe\">\n",
       "  <thead>\n",
       "    <tr style=\"text-align: right;\">\n",
       "      <th></th>\n",
       "      <th>Actual</th>\n",
       "      <th>Predicted</th>\n",
       "    </tr>\n",
       "  </thead>\n",
       "  <tbody>\n",
       "    <tr>\n",
       "      <th>0</th>\n",
       "      <td>4.9480</td>\n",
       "      <td>5.428592</td>\n",
       "    </tr>\n",
       "    <tr>\n",
       "      <th>1</th>\n",
       "      <td>2.5230</td>\n",
       "      <td>4.005168</td>\n",
       "    </tr>\n",
       "    <tr>\n",
       "      <th>2</th>\n",
       "      <td>4.3400</td>\n",
       "      <td>5.591182</td>\n",
       "    </tr>\n",
       "    <tr>\n",
       "      <th>3</th>\n",
       "      <td>6.4850</td>\n",
       "      <td>6.108400</td>\n",
       "    </tr>\n",
       "    <tr>\n",
       "      <th>4</th>\n",
       "      <td>3.8960</td>\n",
       "      <td>4.949168</td>\n",
       "    </tr>\n",
       "    <tr>\n",
       "      <th>5</th>\n",
       "      <td>4.5740</td>\n",
       "      <td>4.684516</td>\n",
       "    </tr>\n",
       "    <tr>\n",
       "      <th>6</th>\n",
       "      <td>7.5040</td>\n",
       "      <td>6.175743</td>\n",
       "    </tr>\n",
       "    <tr>\n",
       "      <th>7</th>\n",
       "      <td>4.6030</td>\n",
       "      <td>4.900944</td>\n",
       "    </tr>\n",
       "    <tr>\n",
       "      <th>8</th>\n",
       "      <td>3.8560</td>\n",
       "      <td>4.421213</td>\n",
       "    </tr>\n",
       "    <tr>\n",
       "      <th>9</th>\n",
       "      <td>6.3770</td>\n",
       "      <td>6.370384</td>\n",
       "    </tr>\n",
       "    <tr>\n",
       "      <th>10</th>\n",
       "      <td>3.4950</td>\n",
       "      <td>4.437717</td>\n",
       "    </tr>\n",
       "    <tr>\n",
       "      <th>11</th>\n",
       "      <td>6.4670</td>\n",
       "      <td>6.075882</td>\n",
       "    </tr>\n",
       "    <tr>\n",
       "      <th>12</th>\n",
       "      <td>5.2770</td>\n",
       "      <td>4.581900</td>\n",
       "    </tr>\n",
       "    <tr>\n",
       "      <th>13</th>\n",
       "      <td>3.5750</td>\n",
       "      <td>4.549229</td>\n",
       "    </tr>\n",
       "    <tr>\n",
       "      <th>14</th>\n",
       "      <td>3.9560</td>\n",
       "      <td>4.538369</td>\n",
       "    </tr>\n",
       "    <tr>\n",
       "      <th>15</th>\n",
       "      <td>3.9040</td>\n",
       "      <td>4.954322</td>\n",
       "    </tr>\n",
       "    <tr>\n",
       "      <th>16</th>\n",
       "      <td>4.6940</td>\n",
       "      <td>5.464301</td>\n",
       "    </tr>\n",
       "    <tr>\n",
       "      <th>17</th>\n",
       "      <td>6.0780</td>\n",
       "      <td>5.777300</td>\n",
       "    </tr>\n",
       "    <tr>\n",
       "      <th>18</th>\n",
       "      <td>5.0610</td>\n",
       "      <td>5.648149</td>\n",
       "    </tr>\n",
       "    <tr>\n",
       "      <th>19</th>\n",
       "      <td>7.0720</td>\n",
       "      <td>6.124966</td>\n",
       "    </tr>\n",
       "    <tr>\n",
       "      <th>20</th>\n",
       "      <td>4.7715</td>\n",
       "      <td>6.038060</td>\n",
       "    </tr>\n",
       "    <tr>\n",
       "      <th>21</th>\n",
       "      <td>3.4759</td>\n",
       "      <td>3.618635</td>\n",
       "    </tr>\n",
       "    <tr>\n",
       "      <th>22</th>\n",
       "      <td>6.8450</td>\n",
       "      <td>5.081939</td>\n",
       "    </tr>\n",
       "    <tr>\n",
       "      <th>23</th>\n",
       "      <td>5.2540</td>\n",
       "      <td>5.670942</td>\n",
       "    </tr>\n",
       "    <tr>\n",
       "      <th>24</th>\n",
       "      <td>5.2470</td>\n",
       "      <td>5.634130</td>\n",
       "    </tr>\n",
       "    <tr>\n",
       "      <th>25</th>\n",
       "      <td>4.1070</td>\n",
       "      <td>4.241383</td>\n",
       "    </tr>\n",
       "    <tr>\n",
       "      <th>26</th>\n",
       "      <td>5.6921</td>\n",
       "      <td>5.876080</td>\n",
       "    </tr>\n",
       "    <tr>\n",
       "      <th>27</th>\n",
       "      <td>6.2340</td>\n",
       "      <td>5.493014</td>\n",
       "    </tr>\n",
       "    <tr>\n",
       "      <th>28</th>\n",
       "      <td>5.6150</td>\n",
       "      <td>5.223177</td>\n",
       "    </tr>\n",
       "    <tr>\n",
       "      <th>29</th>\n",
       "      <td>6.5960</td>\n",
       "      <td>5.961640</td>\n",
       "    </tr>\n",
       "  </tbody>\n",
       "</table>\n",
       "</div>"
      ],
      "text/plain": [
       "    Actual  Predicted\n",
       "0   4.9480   5.428592\n",
       "1   2.5230   4.005168\n",
       "2   4.3400   5.591182\n",
       "3   6.4850   6.108400\n",
       "4   3.8960   4.949168\n",
       "5   4.5740   4.684516\n",
       "6   7.5040   6.175743\n",
       "7   4.6030   4.900944\n",
       "8   3.8560   4.421213\n",
       "9   6.3770   6.370384\n",
       "10  3.4950   4.437717\n",
       "11  6.4670   6.075882\n",
       "12  5.2770   4.581900\n",
       "13  3.5750   4.549229\n",
       "14  3.9560   4.538369\n",
       "15  3.9040   4.954322\n",
       "16  4.6940   5.464301\n",
       "17  6.0780   5.777300\n",
       "18  5.0610   5.648149\n",
       "19  7.0720   6.124966\n",
       "20  4.7715   6.038060\n",
       "21  3.4759   3.618635\n",
       "22  6.8450   5.081939\n",
       "23  5.2540   5.670942\n",
       "24  5.2470   5.634130\n",
       "25  4.1070   4.241383\n",
       "26  5.6921   5.876080\n",
       "27  6.2340   5.493014\n",
       "28  5.6150   5.223177\n",
       "29  6.5960   5.961640"
      ]
     },
     "execution_count": 41,
     "metadata": {},
     "output_type": "execute_result"
    }
   ],
   "source": [
    "# Create a dataframe comparing the actual and predicted values of y.\n",
    "compare_data = pd.DataFrame({'Actual': y_test.flatten(), 'Predicted': y_predicted.flatten()})\n",
    "compare_data.head(30)"
   ]
  },
  {
   "cell_type": "markdown",
   "id": "1c8be679",
   "metadata": {},
   "source": [
    "#### Compare how the regression fits the training set"
   ]
  },
  {
   "cell_type": "code",
   "execution_count": 43,
   "id": "3f5cecee",
   "metadata": {},
   "outputs": [],
   "source": [
    "# Predict.\n",
    "y_predicted_train = regression.predict(X_train) # This is predicting X_train!"
   ]
  },
  {
   "cell_type": "code",
   "execution_count": 44,
   "id": "df570652",
   "metadata": {},
   "outputs": [],
   "source": [
    "rmse = mean_squared_error(y_train, y_predicted_train)\n",
    "r2 = r2_score(y_train, y_predicted_train)"
   ]
  },
  {
   "cell_type": "code",
   "execution_count": 45,
   "id": "46acfa75",
   "metadata": {},
   "outputs": [
    {
     "name": "stdout",
     "output_type": "stream",
     "text": [
      "Slope: [[3.06772431]]\n",
      "Mean squared error:  0.66804263835645\n",
      "R2 score:  0.45352087981503664\n"
     ]
    }
   ],
   "source": [
    "print('Slope:' ,regression.coef_)\n",
    "print('Mean squared error: ', rmse)\n",
    "print('R2 score: ', r2)"
   ]
  },
  {
   "cell_type": "markdown",
   "id": "5514f6b4",
   "metadata": {},
   "source": [
    "#### The values are identical to the model. Positive relationship, MSE 0.6680 and a moderate R2 (0.45). The model is not overfitted. This indicates that the life expectancy is correlated positively with the happiness score. However, other variances in the data may determine the happiness score."
   ]
  },
  {
   "cell_type": "code",
   "execution_count": 47,
   "id": "349cf8c9",
   "metadata": {},
   "outputs": [
    {
     "data": {
      "image/png": "[encoded data removed]",
      "text/plain": [
       "<Figure size 640x480 with 1 Axes>"
      ]
     },
     "metadata": {},
     "output_type": "display_data"
    }
   ],
   "source": [
    "# Visualizing the training set results.\n",
    "plot_test = plt\n",
    "plot_test.scatter(X_train, y_train, color='green', s = 15)\n",
    "plot_test.plot(X_train, y_predicted_train, color='red', linewidth =3)\n",
    "plot_test.title('Happiness score vs Life expentancy (Train set)')\n",
    "plot_test.xlabel('health_life_expectancy')\n",
    "plot_test.ylabel('happiness_score')\n",
    "plot_test.show()"
   ]
  },
  {
   "cell_type": "markdown",
   "id": "ea46f49b",
   "metadata": {},
   "source": [
    "## 06. Performance improvement after removing outliers"
   ]
  },
  {
   "cell_type": "code",
   "execution_count": 50,
   "id": "5721c622",
   "metadata": {},
   "outputs": [],
   "source": [
    "# Clean the extreme values from the 'health_life_expectancy' variable observed during the consistency checks.\n",
    "df_test=wh_merged[wh_merged['health_life_expectancy']<=1.102504] # Q2 (mean)+stdev*2 "
   ]
  },
  {
   "cell_type": "code",
   "execution_count": 51,
   "id": "d42c2a9c",
   "metadata": {},
   "outputs": [
    {
     "data": {
      "image/png": "[encoded data removed]",
      "text/plain": [
       "<Figure size 640x480 with 1 Axes>"
      ]
     },
     "metadata": {},
     "output_type": "display_data"
    }
   ],
   "source": [
    "# See how the scatterplot looks without outliers.\n",
    "df_test.plot(x = 'health_life_expectancy', y='happiness_score', style='o')  \n",
    "plt.title('Happiness score vs Life expentancy')  \n",
    "plt.xlabel('health_life_expectancy')  \n",
    "plt.ylabel('happiness_score')  \n",
    "plt.show()"
   ]
  },
  {
   "cell_type": "code",
   "execution_count": 52,
   "id": "e248868b",
   "metadata": {},
   "outputs": [],
   "source": [
    "# Reshape again.\n",
    "X_2 = df_test['health_life_expectancy'].values.reshape(-1,1)\n",
    "y_2 = df_test['happiness_score'].values.reshape(-1,1)"
   ]
  },
  {
   "cell_type": "code",
   "execution_count": 53,
   "id": "de8206ae",
   "metadata": {},
   "outputs": [],
   "source": [
    "X_train_2, X_test_2, y_train_2, y_test_2 = train_test_split(X_2, y_2, test_size=0.3, random_state=0)"
   ]
  },
  {
   "cell_type": "code",
   "execution_count": 54,
   "id": "1541cf52",
   "metadata": {},
   "outputs": [
    {
     "data": {
      "text/html": [
       "<style>#sk-container-id-2 {color: black;}#sk-container-id-2 pre{padding: 0;}#sk-container-id-2 div.sk-toggleable {background-color: white;}#sk-container-id-2 label.sk-toggleable__label {cursor: pointer;display: block;width: 100%;margin-bottom: 0;padding: 0.3em;box-sizing: border-box;text-align: center;}#sk-container-id-2 label.sk-toggleable__label-arrow:before {content: \"▸\";float: left;margin-right: 0.25em;color: #696969;}#sk-container-id-2 label.sk-toggleable__label-arrow:hover:before {color: black;}#sk-container-id-2 div.sk-estimator:hover label.sk-toggleable__label-arrow:before {color: black;}#sk-container-id-2 div.sk-toggleable__content {max-height: 0;max-width: 0;overflow: hidden;text-align: left;background-color: #f0f8ff;}#sk-container-id-2 div.sk-toggleable__content pre {margin: 0.2em;color: black;border-radius: 0.25em;background-color: #f0f8ff;}#sk-container-id-2 input.sk-toggleable__control:checked~div.sk-toggleable__content {max-height: 200px;max-width: 100%;overflow: auto;}#sk-container-id-2 input.sk-toggleable__control:checked~label.sk-toggleable__label-arrow:before {content: \"▾\";}#sk-container-id-2 div.sk-estimator input.sk-toggleable__control:checked~label.sk-toggleable__label {background-color: #d4ebff;}#sk-container-id-2 div.sk-label input.sk-toggleable__control:checked~label.sk-toggleable__label {background-color: #d4ebff;}#sk-container-id-2 input.sk-hidden--visually {border: 0;clip: rect(1px 1px 1px 1px);clip: rect(1px, 1px, 1px, 1px);height: 1px;margin: -1px;overflow: hidden;padding: 0;position: absolute;width: 1px;}#sk-container-id-2 div.sk-estimator {font-family: monospace;background-color: #f0f8ff;border: 1px dotted black;border-radius: 0.25em;box-sizing: border-box;margin-bottom: 0.5em;}#sk-container-id-2 div.sk-estimator:hover {background-color: #d4ebff;}#sk-container-id-2 div.sk-parallel-item::after {content: \"\";width: 100%;border-bottom: 1px solid gray;flex-grow: 1;}#sk-container-id-2 div.sk-label:hover label.sk-toggleable__label {background-color: #d4ebff;}#sk-container-id-2 div.sk-serial::before {content: \"\";position: absolute;border-left: 1px solid gray;box-sizing: border-box;top: 0;bottom: 0;left: 50%;z-index: 0;}#sk-container-id-2 div.sk-serial {display: flex;flex-direction: column;align-items: center;background-color: white;padding-right: 0.2em;padding-left: 0.2em;position: relative;}#sk-container-id-2 div.sk-item {position: relative;z-index: 1;}#sk-container-id-2 div.sk-parallel {display: flex;align-items: stretch;justify-content: center;background-color: white;position: relative;}#sk-container-id-2 div.sk-item::before, #sk-container-id-2 div.sk-parallel-item::before {content: \"\";position: absolute;border-left: 1px solid gray;box-sizing: border-box;top: 0;bottom: 0;left: 50%;z-index: -1;}#sk-container-id-2 div.sk-parallel-item {display: flex;flex-direction: column;z-index: 1;position: relative;background-color: white;}#sk-container-id-2 div.sk-parallel-item:first-child::after {align-self: flex-end;width: 50%;}#sk-container-id-2 div.sk-parallel-item:last-child::after {align-self: flex-start;width: 50%;}#sk-container-id-2 div.sk-parallel-item:only-child::after {width: 0;}#sk-container-id-2 div.sk-dashed-wrapped {border: 1px dashed gray;margin: 0 0.4em 0.5em 0.4em;box-sizing: border-box;padding-bottom: 0.4em;background-color: white;}#sk-container-id-2 div.sk-label label {font-family: monospace;font-weight: bold;display: inline-block;line-height: 1.2em;}#sk-container-id-2 div.sk-label-container {text-align: center;}#sk-container-id-2 div.sk-container {/* jupyter's `normalize.less` sets `[hidden] { display: none; }` but bootstrap.min.css set `[hidden] { display: none !important; }` so we also need the `!important` here to be able to override the default hidden behavior on the sphinx rendered scikit-learn.org. See: https://github.com/scikit-learn/scikit-learn/issues/21755 */display: inline-block !important;position: relative;}#sk-container-id-2 div.sk-text-repr-fallback {display: none;}</style><div id=\"sk-container-id-2\" class=\"sk-top-container\"><div class=\"sk-text-repr-fallback\"><pre>LinearRegression()</pre><b>In a Jupyter environment, please rerun this cell to show the HTML representation or trust the notebook. <br />On GitHub, the HTML representation is unable to render, please try loading this page with nbviewer.org.</b></div><div class=\"sk-container\" hidden><div class=\"sk-item\"><div class=\"sk-estimator sk-toggleable\"><input class=\"sk-toggleable__control sk-hidden--visually\" id=\"sk-estimator-id-2\" type=\"checkbox\" checked><label for=\"sk-estimator-id-2\" class=\"sk-toggleable__label sk-toggleable__label-arrow\">LinearRegression</label><div class=\"sk-toggleable__content\"><pre>LinearRegression()</pre></div></div></div></div></div>"
      ],
      "text/plain": [
       "LinearRegression()"
      ]
     },
     "execution_count": 54,
     "metadata": {},
     "output_type": "execute_result"
    }
   ],
   "source": [
    "# Run and fit the regression.\n",
    "regression = LinearRegression()  \n",
    "regression.fit(X_train_2, y_train_2)"
   ]
  },
  {
   "cell_type": "code",
   "execution_count": 55,
   "id": "4ab101e9",
   "metadata": {},
   "outputs": [],
   "source": [
    "# Predict.\n",
    "y_predicted_2 = regression.predict(X_test_2)"
   ]
  },
  {
   "cell_type": "code",
   "execution_count": 56,
   "id": "a8186802",
   "metadata": {},
   "outputs": [],
   "source": [
    "rmse = mean_squared_error(y_test_2, y_predicted_2)\n",
    "r2 = r2_score(y_test_2, y_predicted_2)"
   ]
  },
  {
   "cell_type": "code",
   "execution_count": 57,
   "id": "9183b9be",
   "metadata": {},
   "outputs": [
    {
     "name": "stdout",
     "output_type": "stream",
     "text": [
      "Slope: [[3.11780527]]\n",
      "Mean squared error:  0.6805499590171797\n",
      "R2 score:  0.4740312908066432\n"
     ]
    }
   ],
   "source": [
    "print('Slope:' ,regression.coef_)\n",
    "print('Mean squared error: ', rmse)\n",
    "print('R2 score: ', r2)"
   ]
  },
  {
   "cell_type": "code",
   "execution_count": 58,
   "id": "e3788332",
   "metadata": {},
   "outputs": [
    {
     "data": {
      "image/png": "[encoded data removed]",
      "text/plain": [
       "<Figure size 640x480 with 1 Axes>"
      ]
     },
     "metadata": {},
     "output_type": "display_data"
    }
   ],
   "source": [
    "# Visualizing the test set results.\n",
    "plot_test = plt\n",
    "plot_test.scatter(X_test_2, y_test_2, color='gray', s = 15)\n",
    "plot_test.plot(X_test_2, y_predicted_2, color='red', linewidth =3)\n",
    "plot_test.title('Happiness score vs Life expentancy (Test set)')\n",
    "plot_test.xlabel('health_life_expectancy')\n",
    "plot_test.ylabel('happiness_score')\n",
    "plot_test.show()"
   ]
  },
  {
   "cell_type": "code",
   "execution_count": 59,
   "id": "d697f94e",
   "metadata": {},
   "outputs": [
    {
     "data": {
      "text/html": [
       "<div>\n",
       "<style scoped>\n",
       "    .dataframe tbody tr th:only-of-type {\n",
       "        vertical-align: middle;\n",
       "    }\n",
       "\n",
       "    .dataframe tbody tr th {\n",
       "        vertical-align: top;\n",
       "    }\n",
       "\n",
       "    .dataframe thead th {\n",
       "        text-align: right;\n",
       "    }\n",
       "</style>\n",
       "<table border=\"1\" class=\"dataframe\">\n",
       "  <thead>\n",
       "    <tr style=\"text-align: right;\">\n",
       "      <th></th>\n",
       "      <th>Actual</th>\n",
       "      <th>Predicted</th>\n",
       "    </tr>\n",
       "  </thead>\n",
       "  <tbody>\n",
       "    <tr>\n",
       "      <th>0</th>\n",
       "      <td>5.199</td>\n",
       "      <td>5.853366</td>\n",
       "    </tr>\n",
       "    <tr>\n",
       "      <th>1</th>\n",
       "      <td>7.157</td>\n",
       "      <td>6.068494</td>\n",
       "    </tr>\n",
       "    <tr>\n",
       "      <th>2</th>\n",
       "      <td>5.046</td>\n",
       "      <td>5.005323</td>\n",
       "    </tr>\n",
       "    <tr>\n",
       "      <th>3</th>\n",
       "      <td>6.485</td>\n",
       "      <td>6.142074</td>\n",
       "    </tr>\n",
       "    <tr>\n",
       "      <th>4</th>\n",
       "      <td>3.896</td>\n",
       "      <td>4.963918</td>\n",
       "    </tr>\n",
       "    <tr>\n",
       "      <th>5</th>\n",
       "      <td>4.574</td>\n",
       "      <td>4.694945</td>\n",
       "    </tr>\n",
       "    <tr>\n",
       "      <th>6</th>\n",
       "      <td>7.504</td>\n",
       "      <td>6.210517</td>\n",
       "    </tr>\n",
       "    <tr>\n",
       "      <th>7</th>\n",
       "      <td>4.603</td>\n",
       "      <td>4.914906</td>\n",
       "    </tr>\n",
       "    <tr>\n",
       "      <th>8</th>\n",
       "      <td>3.856</td>\n",
       "      <td>4.427344</td>\n",
       "    </tr>\n",
       "    <tr>\n",
       "      <th>9</th>\n",
       "      <td>6.372</td>\n",
       "      <td>5.117564</td>\n",
       "    </tr>\n",
       "    <tr>\n",
       "      <th>10</th>\n",
       "      <td>5.895</td>\n",
       "      <td>6.841710</td>\n",
       "    </tr>\n",
       "    <tr>\n",
       "      <th>11</th>\n",
       "      <td>5.819</td>\n",
       "      <td>4.780841</td>\n",
       "    </tr>\n",
       "    <tr>\n",
       "      <th>12</th>\n",
       "      <td>5.277</td>\n",
       "      <td>4.590654</td>\n",
       "    </tr>\n",
       "    <tr>\n",
       "      <th>13</th>\n",
       "      <td>3.575</td>\n",
       "      <td>4.557450</td>\n",
       "    </tr>\n",
       "    <tr>\n",
       "      <th>14</th>\n",
       "      <td>3.956</td>\n",
       "      <td>4.546413</td>\n",
       "    </tr>\n",
       "    <tr>\n",
       "      <th>15</th>\n",
       "      <td>3.904</td>\n",
       "      <td>4.969156</td>\n",
       "    </tr>\n",
       "    <tr>\n",
       "      <th>16</th>\n",
       "      <td>4.694</td>\n",
       "      <td>5.487460</td>\n",
       "    </tr>\n",
       "    <tr>\n",
       "      <th>17</th>\n",
       "      <td>6.078</td>\n",
       "      <td>5.805570</td>\n",
       "    </tr>\n",
       "    <tr>\n",
       "      <th>18</th>\n",
       "      <td>5.061</td>\n",
       "      <td>5.674310</td>\n",
       "    </tr>\n",
       "    <tr>\n",
       "      <th>19</th>\n",
       "      <td>7.139</td>\n",
       "      <td>6.389628</td>\n",
       "    </tr>\n",
       "    <tr>\n",
       "      <th>20</th>\n",
       "      <td>6.483</td>\n",
       "      <td>6.099672</td>\n",
       "    </tr>\n",
       "    <tr>\n",
       "      <th>21</th>\n",
       "      <td>5.813</td>\n",
       "      <td>5.538467</td>\n",
       "    </tr>\n",
       "    <tr>\n",
       "      <th>22</th>\n",
       "      <td>5.269</td>\n",
       "      <td>5.158095</td>\n",
       "    </tr>\n",
       "    <tr>\n",
       "      <th>23</th>\n",
       "      <td>5.295</td>\n",
       "      <td>5.753596</td>\n",
       "    </tr>\n",
       "    <tr>\n",
       "      <th>24</th>\n",
       "      <td>4.466</td>\n",
       "      <td>4.827608</td>\n",
       "    </tr>\n",
       "    <tr>\n",
       "      <th>25</th>\n",
       "      <td>7.594</td>\n",
       "      <td>6.296094</td>\n",
       "    </tr>\n",
       "    <tr>\n",
       "      <th>26</th>\n",
       "      <td>4.198</td>\n",
       "      <td>3.942151</td>\n",
       "    </tr>\n",
       "    <tr>\n",
       "      <th>27</th>\n",
       "      <td>6.096</td>\n",
       "      <td>5.497936</td>\n",
       "    </tr>\n",
       "    <tr>\n",
       "      <th>28</th>\n",
       "      <td>5.615</td>\n",
       "      <td>5.242400</td>\n",
       "    </tr>\n",
       "    <tr>\n",
       "      <th>29</th>\n",
       "      <td>6.596</td>\n",
       "      <td>5.992919</td>\n",
       "    </tr>\n",
       "  </tbody>\n",
       "</table>\n",
       "</div>"
      ],
      "text/plain": [
       "    Actual  Predicted\n",
       "0    5.199   5.853366\n",
       "1    7.157   6.068494\n",
       "2    5.046   5.005323\n",
       "3    6.485   6.142074\n",
       "4    3.896   4.963918\n",
       "5    4.574   4.694945\n",
       "6    7.504   6.210517\n",
       "7    4.603   4.914906\n",
       "8    3.856   4.427344\n",
       "9    6.372   5.117564\n",
       "10   5.895   6.841710\n",
       "11   5.819   4.780841\n",
       "12   5.277   4.590654\n",
       "13   3.575   4.557450\n",
       "14   3.956   4.546413\n",
       "15   3.904   4.969156\n",
       "16   4.694   5.487460\n",
       "17   6.078   5.805570\n",
       "18   5.061   5.674310\n",
       "19   7.139   6.389628\n",
       "20   6.483   6.099672\n",
       "21   5.813   5.538467\n",
       "22   5.269   5.158095\n",
       "23   5.295   5.753596\n",
       "24   4.466   4.827608\n",
       "25   7.594   6.296094\n",
       "26   4.198   3.942151\n",
       "27   6.096   5.497936\n",
       "28   5.615   5.242400\n",
       "29   6.596   5.992919"
      ]
     },
     "execution_count": 59,
     "metadata": {},
     "output_type": "execute_result"
    }
   ],
   "source": [
    "data_compare_2 = pd.DataFrame({'Actual': y_test_2.flatten(), 'Predicted': y_predicted_2.flatten()})\n",
    "data_compare_2.head(30)"
   ]
  },
  {
   "cell_type": "markdown",
   "id": "8a72d61f",
   "metadata": {},
   "source": [
    "#### After removing outliers, the summary statistics shows the same positive correlation between selected variables (Slope=3.12); MSE=0.68 means that the datapoints still scattered far from the regression line; r2 coefficient (0.47) is slightly improved, but indicates a moderate fit. Thus, this model is considered inaccurate for this data set."
   ]
  },
  {
   "cell_type": "code",
   "execution_count": null,
   "id": "8400cfcd",
   "metadata": {},
   "outputs": [],
   "source": []
  }
 ],
 "metadata": {
  "kernelspec": {
   "display_name": "Python 3 (ipykernel)",
   "language": "python",
   "name": "python3"
  },
  "language_info": {
   "codemirror_mode": {
    "name": "ipython",
    "version": 3
   },
   "file_extension": ".py",
   "mimetype": "text/x-python",
   "name": "python",
   "nbconvert_exporter": "python",
   "pygments_lexer": "ipython3",
   "version": "3.11.5"
  }
 },
 "nbformat": 4,
 "nbformat_minor": 5
}
