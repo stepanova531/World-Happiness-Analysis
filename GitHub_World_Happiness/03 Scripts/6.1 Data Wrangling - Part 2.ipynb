{
 "cells": [
  {
   "cell_type": "markdown",
   "id": "040d906f",
   "metadata": {},
   "source": [
    "# World Happines Analysis"
   ]
  },
  {
   "cell_type": "markdown",
   "id": "f2db5717",
   "metadata": {},
   "source": [
    "## Content\n",
    "### 01. Importing libraries and data\n",
    "### 02. Converting data type strings to float\n",
    "### 03. Exporting data"
   ]
  },
  {
   "cell_type": "markdown",
   "id": "54be0dea",
   "metadata": {},
   "source": [
    "## 01. Importing libraries and data"
   ]
  },
  {
   "cell_type": "code",
   "execution_count": 5,
   "id": "73638fe6",
   "metadata": {},
   "outputs": [],
   "source": [
    "#Import libraries\n",
    "import pandas as pd\n",
    "import numpy as np\n",
    "import os"
   ]
  },
  {
   "cell_type": "code",
   "execution_count": 6,
   "id": "cb1655b7",
   "metadata": {},
   "outputs": [],
   "source": [
    "# Create Path\n",
    "path=r'C:\\Users\\Oksana Stepanova\\OneDrive\\Документи\\World Happiness\\02 Data\\Prepared Data'"
   ]
  },
  {
   "cell_type": "code",
   "execution_count": 7,
   "id": "85ef2f29",
   "metadata": {},
   "outputs": [],
   "source": [
    "# 2015 Import data\n",
    "wh_2015=pd.read_csv(os.path.join(path, 'wh_2015_wrangled.csv'))"
   ]
  },
  {
   "cell_type": "code",
   "execution_count": 8,
   "id": "7c8daa97",
   "metadata": {},
   "outputs": [
    {
     "data": {
      "text/plain": [
       "(158, 12)"
      ]
     },
     "execution_count": 8,
     "metadata": {},
     "output_type": "execute_result"
    }
   ],
   "source": [
    "wh_2015.shape"
   ]
  },
  {
   "cell_type": "code",
   "execution_count": 9,
   "id": "12b86b96",
   "metadata": {},
   "outputs": [
    {
     "name": "stdout",
     "output_type": "stream",
     "text": [
      "<class 'pandas.core.frame.DataFrame'>\n",
      "RangeIndex: 158 entries, 0 to 157\n",
      "Data columns (total 12 columns):\n",
      " #   Column                       Non-Null Count  Dtype  \n",
      "---  ------                       --------------  -----  \n",
      " 0   Unnamed: 0                   158 non-null    int64  \n",
      " 1   country                      158 non-null    object \n",
      " 2   year                         158 non-null    int64  \n",
      " 3   happiness_rank               158 non-null    int64  \n",
      " 4   happiness_score              158 non-null    float64\n",
      " 5   economy_GDP_per_capita       158 non-null    float64\n",
      " 6   family                       158 non-null    float64\n",
      " 7   health_life_expectancy       158 non-null    float64\n",
      " 8   freedom                      158 non-null    float64\n",
      " 9   trust_government_corruption  158 non-null    float64\n",
      " 10  generosity                   158 non-null    float64\n",
      " 11  dystopia_residual            158 non-null    float64\n",
      "dtypes: float64(8), int64(3), object(1)\n",
      "memory usage: 14.9+ KB\n"
     ]
    }
   ],
   "source": [
    "wh_2015.info()"
   ]
  },
  {
   "cell_type": "code",
   "execution_count": 10,
   "id": "892c9c8c",
   "metadata": {},
   "outputs": [],
   "source": [
    "# 2016-2023 Import data\n",
    "wh_2016=pd.read_csv(os.path.join(path, 'wh_2016_wrangled.csv'))\n",
    "wh_2017=pd.read_csv(os.path.join(path, 'wh_2017_wrangled.csv'))\n",
    "wh_2018=pd.read_csv(os.path.join(path, 'wh_2018_wrangled.csv'))\n",
    "wh_2019=pd.read_csv(os.path.join(path, 'wh_2019_wrangled.csv'))\n",
    "wh_2020=pd.read_csv(os.path.join(path, 'wh_2020_wrangled.csv'))\n",
    "wh_2021=pd.read_csv(os.path.join(path, 'wh_2021_wrangled.csv'))\n",
    "wh_2022=pd.read_csv(os.path.join(path, 'wh_2022_wrangled.csv'))\n",
    "wh_2023=pd.read_csv(os.path.join(path, 'wh_2023_wrangled.csv'))"
   ]
  },
  {
   "cell_type": "code",
   "execution_count": 11,
   "id": "3e1f3743",
   "metadata": {},
   "outputs": [
    {
     "data": {
      "text/plain": [
       "(157, 12)"
      ]
     },
     "execution_count": 11,
     "metadata": {},
     "output_type": "execute_result"
    }
   ],
   "source": [
    "wh_2016.shape"
   ]
  },
  {
   "cell_type": "code",
   "execution_count": 12,
   "id": "d6d8d894",
   "metadata": {},
   "outputs": [
    {
     "data": {
      "text/plain": [
       "(155, 12)"
      ]
     },
     "execution_count": 12,
     "metadata": {},
     "output_type": "execute_result"
    }
   ],
   "source": [
    "wh_2017.shape"
   ]
  },
  {
   "cell_type": "code",
   "execution_count": 13,
   "id": "61b24ae4",
   "metadata": {},
   "outputs": [
    {
     "data": {
      "text/plain": [
       "(156, 12)"
      ]
     },
     "execution_count": 13,
     "metadata": {},
     "output_type": "execute_result"
    }
   ],
   "source": [
    "wh_2018.shape"
   ]
  },
  {
   "cell_type": "code",
   "execution_count": 14,
   "id": "e9aff750",
   "metadata": {},
   "outputs": [
    {
     "data": {
      "text/plain": [
       "(156, 12)"
      ]
     },
     "execution_count": 14,
     "metadata": {},
     "output_type": "execute_result"
    }
   ],
   "source": [
    "wh_2019.shape"
   ]
  },
  {
   "cell_type": "code",
   "execution_count": 15,
   "id": "3d1ec808",
   "metadata": {},
   "outputs": [
    {
     "data": {
      "text/plain": [
       "(153, 12)"
      ]
     },
     "execution_count": 15,
     "metadata": {},
     "output_type": "execute_result"
    }
   ],
   "source": [
    "wh_2020.shape"
   ]
  },
  {
   "cell_type": "code",
   "execution_count": 16,
   "id": "6a8f9754",
   "metadata": {},
   "outputs": [
    {
     "data": {
      "text/plain": [
       "(149, 12)"
      ]
     },
     "execution_count": 16,
     "metadata": {},
     "output_type": "execute_result"
    }
   ],
   "source": [
    "wh_2021.shape"
   ]
  },
  {
   "cell_type": "code",
   "execution_count": 17,
   "id": "41114676",
   "metadata": {},
   "outputs": [
    {
     "data": {
      "text/plain": [
       "(147, 12)"
      ]
     },
     "execution_count": 17,
     "metadata": {},
     "output_type": "execute_result"
    }
   ],
   "source": [
    "wh_2022.shape"
   ]
  },
  {
   "cell_type": "code",
   "execution_count": 18,
   "id": "1fed6858",
   "metadata": {},
   "outputs": [
    {
     "data": {
      "text/plain": [
       "(137, 12)"
      ]
     },
     "execution_count": 18,
     "metadata": {},
     "output_type": "execute_result"
    }
   ],
   "source": [
    "wh_2023.shape"
   ]
  },
  {
   "cell_type": "code",
   "execution_count": 19,
   "id": "ac7b120e",
   "metadata": {},
   "outputs": [
    {
     "name": "stdout",
     "output_type": "stream",
     "text": [
      "<class 'pandas.core.frame.DataFrame'>\n",
      "RangeIndex: 157 entries, 0 to 156\n",
      "Data columns (total 12 columns):\n",
      " #   Column                       Non-Null Count  Dtype  \n",
      "---  ------                       --------------  -----  \n",
      " 0   Unnamed: 0                   157 non-null    int64  \n",
      " 1   country                      157 non-null    object \n",
      " 2   year                         157 non-null    int64  \n",
      " 3   happiness_rank               157 non-null    int64  \n",
      " 4   happiness_score              157 non-null    float64\n",
      " 5   economy_GDP_per_capita       157 non-null    float64\n",
      " 6   family                       157 non-null    float64\n",
      " 7   health_life_expectancy       157 non-null    float64\n",
      " 8   freedom                      157 non-null    float64\n",
      " 9   trust_government_corruption  157 non-null    float64\n",
      " 10  generosity                   157 non-null    float64\n",
      " 11  dystopia_residual            157 non-null    float64\n",
      "dtypes: float64(8), int64(3), object(1)\n",
      "memory usage: 14.8+ KB\n"
     ]
    }
   ],
   "source": [
    "wh_2016.info()"
   ]
  },
  {
   "cell_type": "code",
   "execution_count": 20,
   "id": "045e4038",
   "metadata": {},
   "outputs": [
    {
     "name": "stdout",
     "output_type": "stream",
     "text": [
      "<class 'pandas.core.frame.DataFrame'>\n",
      "RangeIndex: 155 entries, 0 to 154\n",
      "Data columns (total 12 columns):\n",
      " #   Column                       Non-Null Count  Dtype  \n",
      "---  ------                       --------------  -----  \n",
      " 0   Unnamed: 0                   155 non-null    int64  \n",
      " 1   country                      155 non-null    object \n",
      " 2   year                         155 non-null    int64  \n",
      " 3   happiness_rank               155 non-null    int64  \n",
      " 4   happiness_score              155 non-null    float64\n",
      " 5   economy_GDP_per_capita       155 non-null    float64\n",
      " 6   family                       155 non-null    float64\n",
      " 7   health_life_expectancy       155 non-null    float64\n",
      " 8   freedom                      155 non-null    float64\n",
      " 9   trust_government_corruption  155 non-null    float64\n",
      " 10  generosity                   155 non-null    float64\n",
      " 11  dystopia_residual            155 non-null    float64\n",
      "dtypes: float64(8), int64(3), object(1)\n",
      "memory usage: 14.7+ KB\n"
     ]
    }
   ],
   "source": [
    "wh_2017.info()"
   ]
  },
  {
   "cell_type": "code",
   "execution_count": 21,
   "id": "f86dc1aa",
   "metadata": {},
   "outputs": [
    {
     "name": "stdout",
     "output_type": "stream",
     "text": [
      "<class 'pandas.core.frame.DataFrame'>\n",
      "RangeIndex: 156 entries, 0 to 155\n",
      "Data columns (total 12 columns):\n",
      " #   Column                       Non-Null Count  Dtype  \n",
      "---  ------                       --------------  -----  \n",
      " 0   Unnamed: 0                   156 non-null    int64  \n",
      " 1   country                      156 non-null    object \n",
      " 2   year                         156 non-null    int64  \n",
      " 3   happiness_rank               156 non-null    int64  \n",
      " 4   happiness_score              156 non-null    float64\n",
      " 5   economy_GDP_per_capita       156 non-null    float64\n",
      " 6   family                       156 non-null    float64\n",
      " 7   health_life_expectancy       156 non-null    float64\n",
      " 8   freedom                      156 non-null    float64\n",
      " 9   trust_government_corruption  155 non-null    float64\n",
      " 10  generosity                   156 non-null    float64\n",
      " 11  dystopia_residual            156 non-null    int64  \n",
      "dtypes: float64(7), int64(4), object(1)\n",
      "memory usage: 14.8+ KB\n"
     ]
    }
   ],
   "source": [
    "wh_2018.info()"
   ]
  },
  {
   "cell_type": "code",
   "execution_count": 22,
   "id": "639909b3",
   "metadata": {},
   "outputs": [
    {
     "name": "stdout",
     "output_type": "stream",
     "text": [
      "<class 'pandas.core.frame.DataFrame'>\n",
      "RangeIndex: 156 entries, 0 to 155\n",
      "Data columns (total 12 columns):\n",
      " #   Column                       Non-Null Count  Dtype  \n",
      "---  ------                       --------------  -----  \n",
      " 0   Unnamed: 0                   156 non-null    int64  \n",
      " 1   country                      156 non-null    object \n",
      " 2   year                         156 non-null    int64  \n",
      " 3   happiness_rank               156 non-null    int64  \n",
      " 4   happiness_score              156 non-null    float64\n",
      " 5   economy_GDP_per_capita       156 non-null    float64\n",
      " 6   family                       156 non-null    float64\n",
      " 7   health_life_expectancy       156 non-null    float64\n",
      " 8   freedom                      156 non-null    float64\n",
      " 9   trust_government_corruption  156 non-null    float64\n",
      " 10  generosity                   156 non-null    float64\n",
      " 11  dystopia_residual            156 non-null    int64  \n",
      "dtypes: float64(7), int64(4), object(1)\n",
      "memory usage: 14.8+ KB\n"
     ]
    }
   ],
   "source": [
    "wh_2019.info()"
   ]
  },
  {
   "cell_type": "code",
   "execution_count": 23,
   "id": "d4d10f58",
   "metadata": {},
   "outputs": [
    {
     "name": "stdout",
     "output_type": "stream",
     "text": [
      "<class 'pandas.core.frame.DataFrame'>\n",
      "RangeIndex: 153 entries, 0 to 152\n",
      "Data columns (total 12 columns):\n",
      " #   Column                       Non-Null Count  Dtype  \n",
      "---  ------                       --------------  -----  \n",
      " 0   Unnamed: 0                   153 non-null    int64  \n",
      " 1   country                      153 non-null    object \n",
      " 2   year                         153 non-null    int64  \n",
      " 3   happiness_rank               153 non-null    int64  \n",
      " 4   happiness_score              153 non-null    float64\n",
      " 5   economy_GDP_per_capita       153 non-null    float64\n",
      " 6   family                       153 non-null    float64\n",
      " 7   health_life_expectancy       153 non-null    float64\n",
      " 8   freedom                      153 non-null    float64\n",
      " 9   trust_government_corruption  153 non-null    float64\n",
      " 10  generosity                   153 non-null    float64\n",
      " 11  dystopia_residual            153 non-null    float64\n",
      "dtypes: float64(8), int64(3), object(1)\n",
      "memory usage: 14.5+ KB\n"
     ]
    }
   ],
   "source": [
    "wh_2020.info()"
   ]
  },
  {
   "cell_type": "code",
   "execution_count": 24,
   "id": "f64d2b27",
   "metadata": {},
   "outputs": [
    {
     "name": "stdout",
     "output_type": "stream",
     "text": [
      "<class 'pandas.core.frame.DataFrame'>\n",
      "RangeIndex: 149 entries, 0 to 148\n",
      "Data columns (total 12 columns):\n",
      " #   Column                       Non-Null Count  Dtype  \n",
      "---  ------                       --------------  -----  \n",
      " 0   Unnamed: 0                   149 non-null    int64  \n",
      " 1   country                      149 non-null    object \n",
      " 2   year                         149 non-null    int64  \n",
      " 3   happiness_rank               149 non-null    int64  \n",
      " 4   happiness_score              149 non-null    float64\n",
      " 5   economy_GDP_per_capita       149 non-null    float64\n",
      " 6   family                       149 non-null    float64\n",
      " 7   health_life_expectancy       149 non-null    float64\n",
      " 8   freedom                      149 non-null    float64\n",
      " 9   trust_government_corruption  149 non-null    float64\n",
      " 10  generosity                   149 non-null    float64\n",
      " 11  dystopia_residual            149 non-null    float64\n",
      "dtypes: float64(8), int64(3), object(1)\n",
      "memory usage: 14.1+ KB\n"
     ]
    }
   ],
   "source": [
    "wh_2021.info()"
   ]
  },
  {
   "cell_type": "code",
   "execution_count": 25,
   "id": "6ddcf7b3",
   "metadata": {},
   "outputs": [
    {
     "name": "stdout",
     "output_type": "stream",
     "text": [
      "<class 'pandas.core.frame.DataFrame'>\n",
      "RangeIndex: 147 entries, 0 to 146\n",
      "Data columns (total 12 columns):\n",
      " #   Column                       Non-Null Count  Dtype \n",
      "---  ------                       --------------  ----- \n",
      " 0   Unnamed: 0                   147 non-null    int64 \n",
      " 1   country                      147 non-null    object\n",
      " 2   year                         147 non-null    int64 \n",
      " 3   happiness_rank               147 non-null    int64 \n",
      " 4   happiness_score              146 non-null    object\n",
      " 5   economy_GDP_per_capita       146 non-null    object\n",
      " 6   family                       146 non-null    object\n",
      " 7   health_life_expectancy       146 non-null    object\n",
      " 8   freedom                      146 non-null    object\n",
      " 9   trust_government_corruption  146 non-null    object\n",
      " 10  generosity                   146 non-null    object\n",
      " 11  dystopia_residual            146 non-null    object\n",
      "dtypes: int64(3), object(9)\n",
      "memory usage: 13.9+ KB\n"
     ]
    }
   ],
   "source": [
    "wh_2022.info()"
   ]
  },
  {
   "cell_type": "code",
   "execution_count": 26,
   "id": "8893d471",
   "metadata": {},
   "outputs": [
    {
     "name": "stdout",
     "output_type": "stream",
     "text": [
      "<class 'pandas.core.frame.DataFrame'>\n",
      "RangeIndex: 137 entries, 0 to 136\n",
      "Data columns (total 12 columns):\n",
      " #   Column                       Non-Null Count  Dtype  \n",
      "---  ------                       --------------  -----  \n",
      " 0   Unnamed: 0                   137 non-null    int64  \n",
      " 1   country                      137 non-null    object \n",
      " 2   year                         137 non-null    int64  \n",
      " 3   happiness_rank               137 non-null    int64  \n",
      " 4   happiness_score              137 non-null    float64\n",
      " 5   economy_GDP_per_capita       137 non-null    float64\n",
      " 6   family                       137 non-null    float64\n",
      " 7   health_life_expectancy       136 non-null    float64\n",
      " 8   freedom                      137 non-null    float64\n",
      " 9   trust_government_corruption  137 non-null    float64\n",
      " 10  generosity                   137 non-null    float64\n",
      " 11  dystopia_residual            137 non-null    int64  \n",
      "dtypes: float64(7), int64(4), object(1)\n",
      "memory usage: 13.0+ KB\n"
     ]
    }
   ],
   "source": [
    "wh_2023.info()"
   ]
  },
  {
   "cell_type": "markdown",
   "id": "378df595",
   "metadata": {},
   "source": [
    "## 02 Converting data type strings to float"
   ]
  },
  {
   "cell_type": "code",
   "execution_count": 28,
   "id": "1ea5c9f7",
   "metadata": {},
   "outputs": [],
   "source": [
    "# 2019 Convert data type string to float\n",
    "wh_2019['dystopia_residual']=wh_2019['dystopia_residual'].astype(float)"
   ]
  },
  {
   "cell_type": "code",
   "execution_count": 29,
   "id": "1b3329c0",
   "metadata": {},
   "outputs": [
    {
     "name": "stdout",
     "output_type": "stream",
     "text": [
      "<class 'pandas.core.frame.DataFrame'>\n",
      "RangeIndex: 156 entries, 0 to 155\n",
      "Data columns (total 12 columns):\n",
      " #   Column                       Non-Null Count  Dtype  \n",
      "---  ------                       --------------  -----  \n",
      " 0   Unnamed: 0                   156 non-null    int64  \n",
      " 1   country                      156 non-null    object \n",
      " 2   year                         156 non-null    int64  \n",
      " 3   happiness_rank               156 non-null    int64  \n",
      " 4   happiness_score              156 non-null    float64\n",
      " 5   economy_GDP_per_capita       156 non-null    float64\n",
      " 6   family                       156 non-null    float64\n",
      " 7   health_life_expectancy       156 non-null    float64\n",
      " 8   freedom                      156 non-null    float64\n",
      " 9   trust_government_corruption  156 non-null    float64\n",
      " 10  generosity                   156 non-null    float64\n",
      " 11  dystopia_residual            156 non-null    float64\n",
      "dtypes: float64(8), int64(3), object(1)\n",
      "memory usage: 14.8+ KB\n"
     ]
    }
   ],
   "source": [
    "wh_2019.info()"
   ]
  },
  {
   "cell_type": "code",
   "execution_count": 45,
   "id": "2eb23679",
   "metadata": {},
   "outputs": [],
   "source": [
    "# 2022 Replace commas with dots\n",
    "def replace_commas_with_dots(value):\n",
    "    # Convert the value to a string if it isn't one already\n",
    "    if isinstance(value, str):\n",
    "        return value.replace(',', '.')\n",
    "    return value\n",
    "\n",
    "# List of columns to apply the replacement\n",
    "columns_to_convert = [\n",
    "    'happiness_score', \n",
    "    'economy_GDP_per_capita', \n",
    "    'family', \n",
    "    'health_life_expectancy', \n",
    "    'freedom', \n",
    "    'trust_government_corruption', \n",
    "    'generosity', \n",
    "    'dystopia_residual'\n",
    "]\n",
    "\n",
    "# Apply the function to each element in the specified columns\n",
    "for column in columns_to_convert:\n",
    "    wh_2022[column] = wh_2022[column].apply(replace_commas_with_dots)"
   ]
  },
  {
   "cell_type": "code",
   "execution_count": 46,
   "id": "715fd719",
   "metadata": {},
   "outputs": [
    {
     "data": {
      "text/html": [
       "<div>\n",
       "<style scoped>\n",
       "    .dataframe tbody tr th:only-of-type {\n",
       "        vertical-align: middle;\n",
       "    }\n",
       "\n",
       "    .dataframe tbody tr th {\n",
       "        vertical-align: top;\n",
       "    }\n",
       "\n",
       "    .dataframe thead th {\n",
       "        text-align: right;\n",
       "    }\n",
       "</style>\n",
       "<table border=\"1\" class=\"dataframe\">\n",
       "  <thead>\n",
       "    <tr style=\"text-align: right;\">\n",
       "      <th></th>\n",
       "      <th>Unnamed: 0</th>\n",
       "      <th>country</th>\n",
       "      <th>year</th>\n",
       "      <th>happiness_rank</th>\n",
       "      <th>happiness_score</th>\n",
       "      <th>economy_GDP_per_capita</th>\n",
       "      <th>family</th>\n",
       "      <th>health_life_expectancy</th>\n",
       "      <th>freedom</th>\n",
       "      <th>trust_government_corruption</th>\n",
       "      <th>generosity</th>\n",
       "      <th>dystopia_residual</th>\n",
       "    </tr>\n",
       "  </thead>\n",
       "  <tbody>\n",
       "    <tr>\n",
       "      <th>0</th>\n",
       "      <td>0</td>\n",
       "      <td>Finland</td>\n",
       "      <td>2022</td>\n",
       "      <td>1</td>\n",
       "      <td>7.821</td>\n",
       "      <td>1.892</td>\n",
       "      <td>1.258</td>\n",
       "      <td>0.775</td>\n",
       "      <td>0.736</td>\n",
       "      <td>0.534</td>\n",
       "      <td>0.109</td>\n",
       "      <td>2.518</td>\n",
       "    </tr>\n",
       "    <tr>\n",
       "      <th>1</th>\n",
       "      <td>1</td>\n",
       "      <td>Denmark</td>\n",
       "      <td>2022</td>\n",
       "      <td>2</td>\n",
       "      <td>7.636</td>\n",
       "      <td>1.953</td>\n",
       "      <td>1.243</td>\n",
       "      <td>0.777</td>\n",
       "      <td>0.719</td>\n",
       "      <td>0.532</td>\n",
       "      <td>0.188</td>\n",
       "      <td>2.226</td>\n",
       "    </tr>\n",
       "    <tr>\n",
       "      <th>2</th>\n",
       "      <td>2</td>\n",
       "      <td>Iceland</td>\n",
       "      <td>2022</td>\n",
       "      <td>3</td>\n",
       "      <td>7.557</td>\n",
       "      <td>1.936</td>\n",
       "      <td>1.320</td>\n",
       "      <td>0.803</td>\n",
       "      <td>0.718</td>\n",
       "      <td>0.191</td>\n",
       "      <td>0.270</td>\n",
       "      <td>2.320</td>\n",
       "    </tr>\n",
       "    <tr>\n",
       "      <th>3</th>\n",
       "      <td>3</td>\n",
       "      <td>Switzerland</td>\n",
       "      <td>2022</td>\n",
       "      <td>4</td>\n",
       "      <td>7.512</td>\n",
       "      <td>2.026</td>\n",
       "      <td>1.226</td>\n",
       "      <td>0.822</td>\n",
       "      <td>0.677</td>\n",
       "      <td>0.461</td>\n",
       "      <td>0.147</td>\n",
       "      <td>2.153</td>\n",
       "    </tr>\n",
       "    <tr>\n",
       "      <th>4</th>\n",
       "      <td>4</td>\n",
       "      <td>Netherlands</td>\n",
       "      <td>2022</td>\n",
       "      <td>5</td>\n",
       "      <td>7.415</td>\n",
       "      <td>1.945</td>\n",
       "      <td>1.206</td>\n",
       "      <td>0.787</td>\n",
       "      <td>0.651</td>\n",
       "      <td>0.419</td>\n",
       "      <td>0.271</td>\n",
       "      <td>2.137</td>\n",
       "    </tr>\n",
       "  </tbody>\n",
       "</table>\n",
       "</div>"
      ],
      "text/plain": [
       "   Unnamed: 0      country  year  happiness_rank happiness_score  \\\n",
       "0           0      Finland  2022               1           7.821   \n",
       "1           1      Denmark  2022               2           7.636   \n",
       "2           2      Iceland  2022               3           7.557   \n",
       "3           3  Switzerland  2022               4           7.512   \n",
       "4           4  Netherlands  2022               5           7.415   \n",
       "\n",
       "  economy_GDP_per_capita family health_life_expectancy freedom  \\\n",
       "0                  1.892  1.258                  0.775   0.736   \n",
       "1                  1.953  1.243                  0.777   0.719   \n",
       "2                  1.936  1.320                  0.803   0.718   \n",
       "3                  2.026  1.226                  0.822   0.677   \n",
       "4                  1.945  1.206                  0.787   0.651   \n",
       "\n",
       "  trust_government_corruption generosity dystopia_residual  \n",
       "0                       0.534      0.109             2.518  \n",
       "1                       0.532      0.188             2.226  \n",
       "2                       0.191      0.270             2.320  \n",
       "3                       0.461      0.147             2.153  \n",
       "4                       0.419      0.271             2.137  "
      ]
     },
     "execution_count": 46,
     "metadata": {},
     "output_type": "execute_result"
    }
   ],
   "source": [
    "wh_2022.head()"
   ]
  },
  {
   "cell_type": "code",
   "execution_count": 47,
   "id": "768755af",
   "metadata": {},
   "outputs": [
    {
     "name": "stdout",
     "output_type": "stream",
     "text": [
      "<class 'pandas.core.frame.DataFrame'>\n",
      "RangeIndex: 147 entries, 0 to 146\n",
      "Data columns (total 12 columns):\n",
      " #   Column                       Non-Null Count  Dtype \n",
      "---  ------                       --------------  ----- \n",
      " 0   Unnamed: 0                   147 non-null    int64 \n",
      " 1   country                      147 non-null    object\n",
      " 2   year                         147 non-null    int64 \n",
      " 3   happiness_rank               147 non-null    int64 \n",
      " 4   happiness_score              146 non-null    object\n",
      " 5   economy_GDP_per_capita       146 non-null    object\n",
      " 6   family                       146 non-null    object\n",
      " 7   health_life_expectancy       146 non-null    object\n",
      " 8   freedom                      146 non-null    object\n",
      " 9   trust_government_corruption  146 non-null    object\n",
      " 10  generosity                   146 non-null    object\n",
      " 11  dystopia_residual            146 non-null    object\n",
      "dtypes: int64(3), object(9)\n",
      "memory usage: 13.9+ KB\n"
     ]
    }
   ],
   "source": [
    "wh_2022.info()"
   ]
  },
  {
   "cell_type": "code",
   "execution_count": 48,
   "id": "3a3ccc37",
   "metadata": {},
   "outputs": [],
   "source": [
    "# 2022 Convert data type string to float \n",
    "columns_to_convert = [\n",
    "    'happiness_score', \n",
    "    'economy_GDP_per_capita', \n",
    "    'family', 'health_life_expectancy', \n",
    "    'freedom', \n",
    "    'trust_government_corruption', \n",
    "    'generosity', \n",
    "    'dystopia_residual' \n",
    "] \n",
    "wh_2022[columns_to_convert] = wh_2022[columns_to_convert].astype(float)"
   ]
  },
  {
   "cell_type": "code",
   "execution_count": 49,
   "id": "e2eec819",
   "metadata": {},
   "outputs": [
    {
     "name": "stdout",
     "output_type": "stream",
     "text": [
      "<class 'pandas.core.frame.DataFrame'>\n",
      "RangeIndex: 147 entries, 0 to 146\n",
      "Data columns (total 12 columns):\n",
      " #   Column                       Non-Null Count  Dtype  \n",
      "---  ------                       --------------  -----  \n",
      " 0   Unnamed: 0                   147 non-null    int64  \n",
      " 1   country                      147 non-null    object \n",
      " 2   year                         147 non-null    int64  \n",
      " 3   happiness_rank               147 non-null    int64  \n",
      " 4   happiness_score              146 non-null    float64\n",
      " 5   economy_GDP_per_capita       146 non-null    float64\n",
      " 6   family                       146 non-null    float64\n",
      " 7   health_life_expectancy       146 non-null    float64\n",
      " 8   freedom                      146 non-null    float64\n",
      " 9   trust_government_corruption  146 non-null    float64\n",
      " 10  generosity                   146 non-null    float64\n",
      " 11  dystopia_residual            146 non-null    float64\n",
      "dtypes: float64(8), int64(3), object(1)\n",
      "memory usage: 13.9+ KB\n"
     ]
    }
   ],
   "source": [
    "wh_2022.info()"
   ]
  },
  {
   "cell_type": "code",
   "execution_count": 50,
   "id": "b4539bce",
   "metadata": {},
   "outputs": [
    {
     "data": {
      "text/plain": [
       "(147, 12)"
      ]
     },
     "execution_count": 50,
     "metadata": {},
     "output_type": "execute_result"
    }
   ],
   "source": [
    "wh_2022.shape"
   ]
  },
  {
   "cell_type": "code",
   "execution_count": 53,
   "id": "30107fa6",
   "metadata": {},
   "outputs": [
    {
     "data": {
      "text/html": [
       "<div>\n",
       "<style scoped>\n",
       "    .dataframe tbody tr th:only-of-type {\n",
       "        vertical-align: middle;\n",
       "    }\n",
       "\n",
       "    .dataframe tbody tr th {\n",
       "        vertical-align: top;\n",
       "    }\n",
       "\n",
       "    .dataframe thead th {\n",
       "        text-align: right;\n",
       "    }\n",
       "</style>\n",
       "<table border=\"1\" class=\"dataframe\">\n",
       "  <thead>\n",
       "    <tr style=\"text-align: right;\">\n",
       "      <th></th>\n",
       "      <th>country</th>\n",
       "      <th>year</th>\n",
       "      <th>happiness_rank</th>\n",
       "      <th>happiness_score</th>\n",
       "      <th>economy_GDP_per_capita</th>\n",
       "      <th>family</th>\n",
       "      <th>health_life_expectancy</th>\n",
       "      <th>freedom</th>\n",
       "      <th>trust_government_corruption</th>\n",
       "      <th>generosity</th>\n",
       "      <th>dystopia_residual</th>\n",
       "    </tr>\n",
       "  </thead>\n",
       "  <tbody>\n",
       "    <tr>\n",
       "      <th>0</th>\n",
       "      <td>Finland</td>\n",
       "      <td>2019</td>\n",
       "      <td>1</td>\n",
       "      <td>7.769</td>\n",
       "      <td>1.340</td>\n",
       "      <td>1.587</td>\n",
       "      <td>0.986</td>\n",
       "      <td>0.596</td>\n",
       "      <td>0.393</td>\n",
       "      <td>0.153</td>\n",
       "      <td>0.0</td>\n",
       "    </tr>\n",
       "    <tr>\n",
       "      <th>1</th>\n",
       "      <td>Denmark</td>\n",
       "      <td>2019</td>\n",
       "      <td>2</td>\n",
       "      <td>7.600</td>\n",
       "      <td>1.383</td>\n",
       "      <td>1.573</td>\n",
       "      <td>0.996</td>\n",
       "      <td>0.592</td>\n",
       "      <td>0.410</td>\n",
       "      <td>0.252</td>\n",
       "      <td>0.0</td>\n",
       "    </tr>\n",
       "    <tr>\n",
       "      <th>2</th>\n",
       "      <td>Norway</td>\n",
       "      <td>2019</td>\n",
       "      <td>3</td>\n",
       "      <td>7.554</td>\n",
       "      <td>1.488</td>\n",
       "      <td>1.582</td>\n",
       "      <td>1.028</td>\n",
       "      <td>0.603</td>\n",
       "      <td>0.341</td>\n",
       "      <td>0.271</td>\n",
       "      <td>0.0</td>\n",
       "    </tr>\n",
       "    <tr>\n",
       "      <th>3</th>\n",
       "      <td>Iceland</td>\n",
       "      <td>2019</td>\n",
       "      <td>4</td>\n",
       "      <td>7.494</td>\n",
       "      <td>1.380</td>\n",
       "      <td>1.624</td>\n",
       "      <td>1.026</td>\n",
       "      <td>0.591</td>\n",
       "      <td>0.118</td>\n",
       "      <td>0.354</td>\n",
       "      <td>0.0</td>\n",
       "    </tr>\n",
       "    <tr>\n",
       "      <th>4</th>\n",
       "      <td>Netherlands</td>\n",
       "      <td>2019</td>\n",
       "      <td>5</td>\n",
       "      <td>7.488</td>\n",
       "      <td>1.396</td>\n",
       "      <td>1.522</td>\n",
       "      <td>0.999</td>\n",
       "      <td>0.557</td>\n",
       "      <td>0.298</td>\n",
       "      <td>0.322</td>\n",
       "      <td>0.0</td>\n",
       "    </tr>\n",
       "    <tr>\n",
       "      <th>...</th>\n",
       "      <td>...</td>\n",
       "      <td>...</td>\n",
       "      <td>...</td>\n",
       "      <td>...</td>\n",
       "      <td>...</td>\n",
       "      <td>...</td>\n",
       "      <td>...</td>\n",
       "      <td>...</td>\n",
       "      <td>...</td>\n",
       "      <td>...</td>\n",
       "      <td>...</td>\n",
       "    </tr>\n",
       "    <tr>\n",
       "      <th>151</th>\n",
       "      <td>Rwanda</td>\n",
       "      <td>2019</td>\n",
       "      <td>152</td>\n",
       "      <td>3.334</td>\n",
       "      <td>0.359</td>\n",
       "      <td>0.711</td>\n",
       "      <td>0.614</td>\n",
       "      <td>0.555</td>\n",
       "      <td>0.411</td>\n",
       "      <td>0.217</td>\n",
       "      <td>0.0</td>\n",
       "    </tr>\n",
       "    <tr>\n",
       "      <th>152</th>\n",
       "      <td>Tanzania</td>\n",
       "      <td>2019</td>\n",
       "      <td>153</td>\n",
       "      <td>3.231</td>\n",
       "      <td>0.476</td>\n",
       "      <td>0.885</td>\n",
       "      <td>0.499</td>\n",
       "      <td>0.417</td>\n",
       "      <td>0.147</td>\n",
       "      <td>0.276</td>\n",
       "      <td>0.0</td>\n",
       "    </tr>\n",
       "    <tr>\n",
       "      <th>153</th>\n",
       "      <td>Afghanistan</td>\n",
       "      <td>2019</td>\n",
       "      <td>154</td>\n",
       "      <td>3.203</td>\n",
       "      <td>0.350</td>\n",
       "      <td>0.517</td>\n",
       "      <td>0.361</td>\n",
       "      <td>0.000</td>\n",
       "      <td>0.025</td>\n",
       "      <td>0.158</td>\n",
       "      <td>0.0</td>\n",
       "    </tr>\n",
       "    <tr>\n",
       "      <th>154</th>\n",
       "      <td>Central African Republic</td>\n",
       "      <td>2019</td>\n",
       "      <td>155</td>\n",
       "      <td>3.083</td>\n",
       "      <td>0.026</td>\n",
       "      <td>0.000</td>\n",
       "      <td>0.105</td>\n",
       "      <td>0.225</td>\n",
       "      <td>0.035</td>\n",
       "      <td>0.235</td>\n",
       "      <td>0.0</td>\n",
       "    </tr>\n",
       "    <tr>\n",
       "      <th>155</th>\n",
       "      <td>South Sudan</td>\n",
       "      <td>2019</td>\n",
       "      <td>156</td>\n",
       "      <td>2.853</td>\n",
       "      <td>0.306</td>\n",
       "      <td>0.575</td>\n",
       "      <td>0.295</td>\n",
       "      <td>0.010</td>\n",
       "      <td>0.091</td>\n",
       "      <td>0.202</td>\n",
       "      <td>0.0</td>\n",
       "    </tr>\n",
       "  </tbody>\n",
       "</table>\n",
       "<p>156 rows × 11 columns</p>\n",
       "</div>"
      ],
      "text/plain": [
       "                      country  year  happiness_rank  happiness_score  \\\n",
       "0                     Finland  2019               1            7.769   \n",
       "1                     Denmark  2019               2            7.600   \n",
       "2                      Norway  2019               3            7.554   \n",
       "3                     Iceland  2019               4            7.494   \n",
       "4                 Netherlands  2019               5            7.488   \n",
       "..                        ...   ...             ...              ...   \n",
       "151                    Rwanda  2019             152            3.334   \n",
       "152                  Tanzania  2019             153            3.231   \n",
       "153               Afghanistan  2019             154            3.203   \n",
       "154  Central African Republic  2019             155            3.083   \n",
       "155               South Sudan  2019             156            2.853   \n",
       "\n",
       "     economy_GDP_per_capita  family  health_life_expectancy  freedom  \\\n",
       "0                     1.340   1.587                   0.986    0.596   \n",
       "1                     1.383   1.573                   0.996    0.592   \n",
       "2                     1.488   1.582                   1.028    0.603   \n",
       "3                     1.380   1.624                   1.026    0.591   \n",
       "4                     1.396   1.522                   0.999    0.557   \n",
       "..                      ...     ...                     ...      ...   \n",
       "151                   0.359   0.711                   0.614    0.555   \n",
       "152                   0.476   0.885                   0.499    0.417   \n",
       "153                   0.350   0.517                   0.361    0.000   \n",
       "154                   0.026   0.000                   0.105    0.225   \n",
       "155                   0.306   0.575                   0.295    0.010   \n",
       "\n",
       "     trust_government_corruption  generosity  dystopia_residual  \n",
       "0                          0.393       0.153                0.0  \n",
       "1                          0.410       0.252                0.0  \n",
       "2                          0.341       0.271                0.0  \n",
       "3                          0.118       0.354                0.0  \n",
       "4                          0.298       0.322                0.0  \n",
       "..                           ...         ...                ...  \n",
       "151                        0.411       0.217                0.0  \n",
       "152                        0.147       0.276                0.0  \n",
       "153                        0.025       0.158                0.0  \n",
       "154                        0.035       0.235                0.0  \n",
       "155                        0.091       0.202                0.0  \n",
       "\n",
       "[156 rows x 11 columns]"
      ]
     },
     "execution_count": 53,
     "metadata": {},
     "output_type": "execute_result"
    }
   ],
   "source": [
    "# 2019 Drop Unnamed column \n",
    "wh_2019.drop(columns=['Unnamed: 0'])"
   ]
  },
  {
   "cell_type": "code",
   "execution_count": 54,
   "id": "40fc9e7c",
   "metadata": {},
   "outputs": [],
   "source": [
    "wh_2019_1=wh_2019.drop(columns=['Unnamed: 0'])"
   ]
  },
  {
   "cell_type": "code",
   "execution_count": 55,
   "id": "1945d630",
   "metadata": {},
   "outputs": [
    {
     "data": {
      "text/html": [
       "<div>\n",
       "<style scoped>\n",
       "    .dataframe tbody tr th:only-of-type {\n",
       "        vertical-align: middle;\n",
       "    }\n",
       "\n",
       "    .dataframe tbody tr th {\n",
       "        vertical-align: top;\n",
       "    }\n",
       "\n",
       "    .dataframe thead th {\n",
       "        text-align: right;\n",
       "    }\n",
       "</style>\n",
       "<table border=\"1\" class=\"dataframe\">\n",
       "  <thead>\n",
       "    <tr style=\"text-align: right;\">\n",
       "      <th></th>\n",
       "      <th>country</th>\n",
       "      <th>year</th>\n",
       "      <th>happiness_rank</th>\n",
       "      <th>happiness_score</th>\n",
       "      <th>economy_GDP_per_capita</th>\n",
       "      <th>family</th>\n",
       "      <th>health_life_expectancy</th>\n",
       "      <th>freedom</th>\n",
       "      <th>trust_government_corruption</th>\n",
       "      <th>generosity</th>\n",
       "      <th>dystopia_residual</th>\n",
       "    </tr>\n",
       "  </thead>\n",
       "  <tbody>\n",
       "    <tr>\n",
       "      <th>0</th>\n",
       "      <td>Finland</td>\n",
       "      <td>2019</td>\n",
       "      <td>1</td>\n",
       "      <td>7.769</td>\n",
       "      <td>1.340</td>\n",
       "      <td>1.587</td>\n",
       "      <td>0.986</td>\n",
       "      <td>0.596</td>\n",
       "      <td>0.393</td>\n",
       "      <td>0.153</td>\n",
       "      <td>0.0</td>\n",
       "    </tr>\n",
       "    <tr>\n",
       "      <th>1</th>\n",
       "      <td>Denmark</td>\n",
       "      <td>2019</td>\n",
       "      <td>2</td>\n",
       "      <td>7.600</td>\n",
       "      <td>1.383</td>\n",
       "      <td>1.573</td>\n",
       "      <td>0.996</td>\n",
       "      <td>0.592</td>\n",
       "      <td>0.410</td>\n",
       "      <td>0.252</td>\n",
       "      <td>0.0</td>\n",
       "    </tr>\n",
       "    <tr>\n",
       "      <th>2</th>\n",
       "      <td>Norway</td>\n",
       "      <td>2019</td>\n",
       "      <td>3</td>\n",
       "      <td>7.554</td>\n",
       "      <td>1.488</td>\n",
       "      <td>1.582</td>\n",
       "      <td>1.028</td>\n",
       "      <td>0.603</td>\n",
       "      <td>0.341</td>\n",
       "      <td>0.271</td>\n",
       "      <td>0.0</td>\n",
       "    </tr>\n",
       "    <tr>\n",
       "      <th>3</th>\n",
       "      <td>Iceland</td>\n",
       "      <td>2019</td>\n",
       "      <td>4</td>\n",
       "      <td>7.494</td>\n",
       "      <td>1.380</td>\n",
       "      <td>1.624</td>\n",
       "      <td>1.026</td>\n",
       "      <td>0.591</td>\n",
       "      <td>0.118</td>\n",
       "      <td>0.354</td>\n",
       "      <td>0.0</td>\n",
       "    </tr>\n",
       "    <tr>\n",
       "      <th>4</th>\n",
       "      <td>Netherlands</td>\n",
       "      <td>2019</td>\n",
       "      <td>5</td>\n",
       "      <td>7.488</td>\n",
       "      <td>1.396</td>\n",
       "      <td>1.522</td>\n",
       "      <td>0.999</td>\n",
       "      <td>0.557</td>\n",
       "      <td>0.298</td>\n",
       "      <td>0.322</td>\n",
       "      <td>0.0</td>\n",
       "    </tr>\n",
       "  </tbody>\n",
       "</table>\n",
       "</div>"
      ],
      "text/plain": [
       "       country  year  happiness_rank  happiness_score  economy_GDP_per_capita  \\\n",
       "0      Finland  2019               1            7.769                   1.340   \n",
       "1      Denmark  2019               2            7.600                   1.383   \n",
       "2       Norway  2019               3            7.554                   1.488   \n",
       "3      Iceland  2019               4            7.494                   1.380   \n",
       "4  Netherlands  2019               5            7.488                   1.396   \n",
       "\n",
       "   family  health_life_expectancy  freedom  trust_government_corruption  \\\n",
       "0   1.587                   0.986    0.596                        0.393   \n",
       "1   1.573                   0.996    0.592                        0.410   \n",
       "2   1.582                   1.028    0.603                        0.341   \n",
       "3   1.624                   1.026    0.591                        0.118   \n",
       "4   1.522                   0.999    0.557                        0.298   \n",
       "\n",
       "   generosity  dystopia_residual  \n",
       "0       0.153                0.0  \n",
       "1       0.252                0.0  \n",
       "2       0.271                0.0  \n",
       "3       0.354                0.0  \n",
       "4       0.322                0.0  "
      ]
     },
     "execution_count": 55,
     "metadata": {},
     "output_type": "execute_result"
    }
   ],
   "source": [
    "wh_2019_1.head()"
   ]
  },
  {
   "cell_type": "code",
   "execution_count": 56,
   "id": "b5297a83",
   "metadata": {},
   "outputs": [
    {
     "name": "stdout",
     "output_type": "stream",
     "text": [
      "<class 'pandas.core.frame.DataFrame'>\n",
      "RangeIndex: 156 entries, 0 to 155\n",
      "Data columns (total 11 columns):\n",
      " #   Column                       Non-Null Count  Dtype  \n",
      "---  ------                       --------------  -----  \n",
      " 0   country                      156 non-null    object \n",
      " 1   year                         156 non-null    int64  \n",
      " 2   happiness_rank               156 non-null    int64  \n",
      " 3   happiness_score              156 non-null    float64\n",
      " 4   economy_GDP_per_capita       156 non-null    float64\n",
      " 5   family                       156 non-null    float64\n",
      " 6   health_life_expectancy       156 non-null    float64\n",
      " 7   freedom                      156 non-null    float64\n",
      " 8   trust_government_corruption  156 non-null    float64\n",
      " 9   generosity                   156 non-null    float64\n",
      " 10  dystopia_residual            156 non-null    float64\n",
      "dtypes: float64(8), int64(2), object(1)\n",
      "memory usage: 13.5+ KB\n"
     ]
    }
   ],
   "source": [
    "wh_2019_1.info()"
   ]
  },
  {
   "cell_type": "code",
   "execution_count": 57,
   "id": "dc414ae5",
   "metadata": {},
   "outputs": [
    {
     "data": {
      "text/plain": [
       "(156, 11)"
      ]
     },
     "execution_count": 57,
     "metadata": {},
     "output_type": "execute_result"
    }
   ],
   "source": [
    "wh_2019_1.shape"
   ]
  },
  {
   "cell_type": "code",
   "execution_count": 58,
   "id": "23bb52ec",
   "metadata": {},
   "outputs": [
    {
     "data": {
      "text/html": [
       "<div>\n",
       "<style scoped>\n",
       "    .dataframe tbody tr th:only-of-type {\n",
       "        vertical-align: middle;\n",
       "    }\n",
       "\n",
       "    .dataframe tbody tr th {\n",
       "        vertical-align: top;\n",
       "    }\n",
       "\n",
       "    .dataframe thead th {\n",
       "        text-align: right;\n",
       "    }\n",
       "</style>\n",
       "<table border=\"1\" class=\"dataframe\">\n",
       "  <thead>\n",
       "    <tr style=\"text-align: right;\">\n",
       "      <th></th>\n",
       "      <th>country</th>\n",
       "      <th>year</th>\n",
       "      <th>happiness_rank</th>\n",
       "      <th>happiness_score</th>\n",
       "      <th>economy_GDP_per_capita</th>\n",
       "      <th>family</th>\n",
       "      <th>health_life_expectancy</th>\n",
       "      <th>freedom</th>\n",
       "      <th>trust_government_corruption</th>\n",
       "      <th>generosity</th>\n",
       "      <th>dystopia_residual</th>\n",
       "    </tr>\n",
       "  </thead>\n",
       "  <tbody>\n",
       "    <tr>\n",
       "      <th>0</th>\n",
       "      <td>Finland</td>\n",
       "      <td>2022</td>\n",
       "      <td>1</td>\n",
       "      <td>7.821</td>\n",
       "      <td>1.892</td>\n",
       "      <td>1.258</td>\n",
       "      <td>0.775</td>\n",
       "      <td>0.736</td>\n",
       "      <td>0.534</td>\n",
       "      <td>0.109</td>\n",
       "      <td>2.518</td>\n",
       "    </tr>\n",
       "    <tr>\n",
       "      <th>1</th>\n",
       "      <td>Denmark</td>\n",
       "      <td>2022</td>\n",
       "      <td>2</td>\n",
       "      <td>7.636</td>\n",
       "      <td>1.953</td>\n",
       "      <td>1.243</td>\n",
       "      <td>0.777</td>\n",
       "      <td>0.719</td>\n",
       "      <td>0.532</td>\n",
       "      <td>0.188</td>\n",
       "      <td>2.226</td>\n",
       "    </tr>\n",
       "    <tr>\n",
       "      <th>2</th>\n",
       "      <td>Iceland</td>\n",
       "      <td>2022</td>\n",
       "      <td>3</td>\n",
       "      <td>7.557</td>\n",
       "      <td>1.936</td>\n",
       "      <td>1.320</td>\n",
       "      <td>0.803</td>\n",
       "      <td>0.718</td>\n",
       "      <td>0.191</td>\n",
       "      <td>0.270</td>\n",
       "      <td>2.320</td>\n",
       "    </tr>\n",
       "    <tr>\n",
       "      <th>3</th>\n",
       "      <td>Switzerland</td>\n",
       "      <td>2022</td>\n",
       "      <td>4</td>\n",
       "      <td>7.512</td>\n",
       "      <td>2.026</td>\n",
       "      <td>1.226</td>\n",
       "      <td>0.822</td>\n",
       "      <td>0.677</td>\n",
       "      <td>0.461</td>\n",
       "      <td>0.147</td>\n",
       "      <td>2.153</td>\n",
       "    </tr>\n",
       "    <tr>\n",
       "      <th>4</th>\n",
       "      <td>Netherlands</td>\n",
       "      <td>2022</td>\n",
       "      <td>5</td>\n",
       "      <td>7.415</td>\n",
       "      <td>1.945</td>\n",
       "      <td>1.206</td>\n",
       "      <td>0.787</td>\n",
       "      <td>0.651</td>\n",
       "      <td>0.419</td>\n",
       "      <td>0.271</td>\n",
       "      <td>2.137</td>\n",
       "    </tr>\n",
       "    <tr>\n",
       "      <th>...</th>\n",
       "      <td>...</td>\n",
       "      <td>...</td>\n",
       "      <td>...</td>\n",
       "      <td>...</td>\n",
       "      <td>...</td>\n",
       "      <td>...</td>\n",
       "      <td>...</td>\n",
       "      <td>...</td>\n",
       "      <td>...</td>\n",
       "      <td>...</td>\n",
       "      <td>...</td>\n",
       "    </tr>\n",
       "    <tr>\n",
       "      <th>142</th>\n",
       "      <td>Rwanda*</td>\n",
       "      <td>2022</td>\n",
       "      <td>143</td>\n",
       "      <td>3.268</td>\n",
       "      <td>0.785</td>\n",
       "      <td>0.133</td>\n",
       "      <td>0.462</td>\n",
       "      <td>0.621</td>\n",
       "      <td>0.544</td>\n",
       "      <td>0.187</td>\n",
       "      <td>0.536</td>\n",
       "    </tr>\n",
       "    <tr>\n",
       "      <th>143</th>\n",
       "      <td>Zimbabwe</td>\n",
       "      <td>2022</td>\n",
       "      <td>144</td>\n",
       "      <td>2.995</td>\n",
       "      <td>0.947</td>\n",
       "      <td>0.690</td>\n",
       "      <td>0.270</td>\n",
       "      <td>0.329</td>\n",
       "      <td>0.105</td>\n",
       "      <td>0.106</td>\n",
       "      <td>0.548</td>\n",
       "    </tr>\n",
       "    <tr>\n",
       "      <th>144</th>\n",
       "      <td>Lebanon</td>\n",
       "      <td>2022</td>\n",
       "      <td>145</td>\n",
       "      <td>2.955</td>\n",
       "      <td>1.392</td>\n",
       "      <td>0.498</td>\n",
       "      <td>0.631</td>\n",
       "      <td>0.103</td>\n",
       "      <td>0.034</td>\n",
       "      <td>0.082</td>\n",
       "      <td>0.216</td>\n",
       "    </tr>\n",
       "    <tr>\n",
       "      <th>145</th>\n",
       "      <td>Afghanistan</td>\n",
       "      <td>2022</td>\n",
       "      <td>146</td>\n",
       "      <td>2.404</td>\n",
       "      <td>0.758</td>\n",
       "      <td>0.000</td>\n",
       "      <td>0.289</td>\n",
       "      <td>0.000</td>\n",
       "      <td>0.005</td>\n",
       "      <td>0.089</td>\n",
       "      <td>1.263</td>\n",
       "    </tr>\n",
       "    <tr>\n",
       "      <th>146</th>\n",
       "      <td>xx</td>\n",
       "      <td>2022</td>\n",
       "      <td>147</td>\n",
       "      <td>NaN</td>\n",
       "      <td>NaN</td>\n",
       "      <td>NaN</td>\n",
       "      <td>NaN</td>\n",
       "      <td>NaN</td>\n",
       "      <td>NaN</td>\n",
       "      <td>NaN</td>\n",
       "      <td>NaN</td>\n",
       "    </tr>\n",
       "  </tbody>\n",
       "</table>\n",
       "<p>147 rows × 11 columns</p>\n",
       "</div>"
      ],
      "text/plain": [
       "         country  year  happiness_rank  happiness_score  \\\n",
       "0        Finland  2022               1            7.821   \n",
       "1        Denmark  2022               2            7.636   \n",
       "2        Iceland  2022               3            7.557   \n",
       "3    Switzerland  2022               4            7.512   \n",
       "4    Netherlands  2022               5            7.415   \n",
       "..           ...   ...             ...              ...   \n",
       "142      Rwanda*  2022             143            3.268   \n",
       "143     Zimbabwe  2022             144            2.995   \n",
       "144      Lebanon  2022             145            2.955   \n",
       "145  Afghanistan  2022             146            2.404   \n",
       "146           xx  2022             147              NaN   \n",
       "\n",
       "     economy_GDP_per_capita  family  health_life_expectancy  freedom  \\\n",
       "0                     1.892   1.258                   0.775    0.736   \n",
       "1                     1.953   1.243                   0.777    0.719   \n",
       "2                     1.936   1.320                   0.803    0.718   \n",
       "3                     2.026   1.226                   0.822    0.677   \n",
       "4                     1.945   1.206                   0.787    0.651   \n",
       "..                      ...     ...                     ...      ...   \n",
       "142                   0.785   0.133                   0.462    0.621   \n",
       "143                   0.947   0.690                   0.270    0.329   \n",
       "144                   1.392   0.498                   0.631    0.103   \n",
       "145                   0.758   0.000                   0.289    0.000   \n",
       "146                     NaN     NaN                     NaN      NaN   \n",
       "\n",
       "     trust_government_corruption  generosity  dystopia_residual  \n",
       "0                          0.534       0.109              2.518  \n",
       "1                          0.532       0.188              2.226  \n",
       "2                          0.191       0.270              2.320  \n",
       "3                          0.461       0.147              2.153  \n",
       "4                          0.419       0.271              2.137  \n",
       "..                           ...         ...                ...  \n",
       "142                        0.544       0.187              0.536  \n",
       "143                        0.105       0.106              0.548  \n",
       "144                        0.034       0.082              0.216  \n",
       "145                        0.005       0.089              1.263  \n",
       "146                          NaN         NaN                NaN  \n",
       "\n",
       "[147 rows x 11 columns]"
      ]
     },
     "execution_count": 58,
     "metadata": {},
     "output_type": "execute_result"
    }
   ],
   "source": [
    "# 2022 Drop Unnamed column \n",
    "wh_2022.drop(columns=['Unnamed: 0'])"
   ]
  },
  {
   "cell_type": "code",
   "execution_count": 59,
   "id": "25095234",
   "metadata": {},
   "outputs": [],
   "source": [
    "wh_2022_1=wh_2022.drop(columns=['Unnamed: 0'])"
   ]
  },
  {
   "cell_type": "code",
   "execution_count": 60,
   "id": "2884e943",
   "metadata": {},
   "outputs": [
    {
     "data": {
      "text/html": [
       "<div>\n",
       "<style scoped>\n",
       "    .dataframe tbody tr th:only-of-type {\n",
       "        vertical-align: middle;\n",
       "    }\n",
       "\n",
       "    .dataframe tbody tr th {\n",
       "        vertical-align: top;\n",
       "    }\n",
       "\n",
       "    .dataframe thead th {\n",
       "        text-align: right;\n",
       "    }\n",
       "</style>\n",
       "<table border=\"1\" class=\"dataframe\">\n",
       "  <thead>\n",
       "    <tr style=\"text-align: right;\">\n",
       "      <th></th>\n",
       "      <th>country</th>\n",
       "      <th>year</th>\n",
       "      <th>happiness_rank</th>\n",
       "      <th>happiness_score</th>\n",
       "      <th>economy_GDP_per_capita</th>\n",
       "      <th>family</th>\n",
       "      <th>health_life_expectancy</th>\n",
       "      <th>freedom</th>\n",
       "      <th>trust_government_corruption</th>\n",
       "      <th>generosity</th>\n",
       "      <th>dystopia_residual</th>\n",
       "    </tr>\n",
       "  </thead>\n",
       "  <tbody>\n",
       "    <tr>\n",
       "      <th>0</th>\n",
       "      <td>Finland</td>\n",
       "      <td>2022</td>\n",
       "      <td>1</td>\n",
       "      <td>7.821</td>\n",
       "      <td>1.892</td>\n",
       "      <td>1.258</td>\n",
       "      <td>0.775</td>\n",
       "      <td>0.736</td>\n",
       "      <td>0.534</td>\n",
       "      <td>0.109</td>\n",
       "      <td>2.518</td>\n",
       "    </tr>\n",
       "    <tr>\n",
       "      <th>1</th>\n",
       "      <td>Denmark</td>\n",
       "      <td>2022</td>\n",
       "      <td>2</td>\n",
       "      <td>7.636</td>\n",
       "      <td>1.953</td>\n",
       "      <td>1.243</td>\n",
       "      <td>0.777</td>\n",
       "      <td>0.719</td>\n",
       "      <td>0.532</td>\n",
       "      <td>0.188</td>\n",
       "      <td>2.226</td>\n",
       "    </tr>\n",
       "    <tr>\n",
       "      <th>2</th>\n",
       "      <td>Iceland</td>\n",
       "      <td>2022</td>\n",
       "      <td>3</td>\n",
       "      <td>7.557</td>\n",
       "      <td>1.936</td>\n",
       "      <td>1.320</td>\n",
       "      <td>0.803</td>\n",
       "      <td>0.718</td>\n",
       "      <td>0.191</td>\n",
       "      <td>0.270</td>\n",
       "      <td>2.320</td>\n",
       "    </tr>\n",
       "    <tr>\n",
       "      <th>3</th>\n",
       "      <td>Switzerland</td>\n",
       "      <td>2022</td>\n",
       "      <td>4</td>\n",
       "      <td>7.512</td>\n",
       "      <td>2.026</td>\n",
       "      <td>1.226</td>\n",
       "      <td>0.822</td>\n",
       "      <td>0.677</td>\n",
       "      <td>0.461</td>\n",
       "      <td>0.147</td>\n",
       "      <td>2.153</td>\n",
       "    </tr>\n",
       "    <tr>\n",
       "      <th>4</th>\n",
       "      <td>Netherlands</td>\n",
       "      <td>2022</td>\n",
       "      <td>5</td>\n",
       "      <td>7.415</td>\n",
       "      <td>1.945</td>\n",
       "      <td>1.206</td>\n",
       "      <td>0.787</td>\n",
       "      <td>0.651</td>\n",
       "      <td>0.419</td>\n",
       "      <td>0.271</td>\n",
       "      <td>2.137</td>\n",
       "    </tr>\n",
       "  </tbody>\n",
       "</table>\n",
       "</div>"
      ],
      "text/plain": [
       "       country  year  happiness_rank  happiness_score  economy_GDP_per_capita  \\\n",
       "0      Finland  2022               1            7.821                   1.892   \n",
       "1      Denmark  2022               2            7.636                   1.953   \n",
       "2      Iceland  2022               3            7.557                   1.936   \n",
       "3  Switzerland  2022               4            7.512                   2.026   \n",
       "4  Netherlands  2022               5            7.415                   1.945   \n",
       "\n",
       "   family  health_life_expectancy  freedom  trust_government_corruption  \\\n",
       "0   1.258                   0.775    0.736                        0.534   \n",
       "1   1.243                   0.777    0.719                        0.532   \n",
       "2   1.320                   0.803    0.718                        0.191   \n",
       "3   1.226                   0.822    0.677                        0.461   \n",
       "4   1.206                   0.787    0.651                        0.419   \n",
       "\n",
       "   generosity  dystopia_residual  \n",
       "0       0.109              2.518  \n",
       "1       0.188              2.226  \n",
       "2       0.270              2.320  \n",
       "3       0.147              2.153  \n",
       "4       0.271              2.137  "
      ]
     },
     "execution_count": 60,
     "metadata": {},
     "output_type": "execute_result"
    }
   ],
   "source": [
    "wh_2022_1.head()"
   ]
  },
  {
   "cell_type": "code",
   "execution_count": 61,
   "id": "011a0214",
   "metadata": {},
   "outputs": [
    {
     "name": "stdout",
     "output_type": "stream",
     "text": [
      "<class 'pandas.core.frame.DataFrame'>\n",
      "RangeIndex: 147 entries, 0 to 146\n",
      "Data columns (total 11 columns):\n",
      " #   Column                       Non-Null Count  Dtype  \n",
      "---  ------                       --------------  -----  \n",
      " 0   country                      147 non-null    object \n",
      " 1   year                         147 non-null    int64  \n",
      " 2   happiness_rank               147 non-null    int64  \n",
      " 3   happiness_score              146 non-null    float64\n",
      " 4   economy_GDP_per_capita       146 non-null    float64\n",
      " 5   family                       146 non-null    float64\n",
      " 6   health_life_expectancy       146 non-null    float64\n",
      " 7   freedom                      146 non-null    float64\n",
      " 8   trust_government_corruption  146 non-null    float64\n",
      " 9   generosity                   146 non-null    float64\n",
      " 10  dystopia_residual            146 non-null    float64\n",
      "dtypes: float64(8), int64(2), object(1)\n",
      "memory usage: 12.8+ KB\n"
     ]
    }
   ],
   "source": [
    "wh_2022_1.info()"
   ]
  },
  {
   "cell_type": "code",
   "execution_count": 62,
   "id": "239bf9b8",
   "metadata": {},
   "outputs": [
    {
     "data": {
      "text/plain": [
       "(147, 11)"
      ]
     },
     "execution_count": 62,
     "metadata": {},
     "output_type": "execute_result"
    }
   ],
   "source": [
    "wh_2022_1.shape"
   ]
  },
  {
   "cell_type": "markdown",
   "id": "543f2480",
   "metadata": {},
   "source": [
    "## 03. Exporting data"
   ]
  },
  {
   "cell_type": "code",
   "execution_count": 64,
   "id": "a5f2dbad",
   "metadata": {},
   "outputs": [],
   "source": [
    "# Create Path to export data\n",
    "path_export=r'C:\\Users\\Oksana Stepanova\\OneDrive\\Документи\\World Happiness'"
   ]
  },
  {
   "cell_type": "code",
   "execution_count": 65,
   "id": "c44c2d7b",
   "metadata": {},
   "outputs": [],
   "source": [
    "# Replace 2019 dataframe in Prepared Data folder\n",
    "wh_2019_1.to_csv(os.path.join(path_export, '02 Data', 'Prepared Data', 'wh_2019_wrangled.csv'))"
   ]
  },
  {
   "cell_type": "code",
   "execution_count": 66,
   "id": "d36235c4",
   "metadata": {},
   "outputs": [],
   "source": [
    "# Replace 2022 dataframe in Prepared Data folder\n",
    "wh_2022_1.to_csv(os.path.join(path_export, '02 Data', 'Prepared Data', 'wh_2022_wrangled.csv'))"
   ]
  },
  {
   "cell_type": "code",
   "execution_count": null,
   "id": "2f9d9d79",
   "metadata": {},
   "outputs": [],
   "source": []
  }
 ],
 "metadata": {
  "kernelspec": {
   "display_name": "Python 3 (ipykernel)",
   "language": "python",
   "name": "python3"
  },
  "language_info": {
   "codemirror_mode": {
    "name": "ipython",
    "version": 3
   },
   "file_extension": ".py",
   "mimetype": "text/x-python",
   "name": "python",
   "nbconvert_exporter": "python",
   "pygments_lexer": "ipython3",
   "version": "3.11.5"
  }
 },
 "nbformat": 4,
 "nbformat_minor": 5
}
